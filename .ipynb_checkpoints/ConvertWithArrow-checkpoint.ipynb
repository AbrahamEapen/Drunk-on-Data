{
 "cells": [
  {
   "cell_type": "code",
   "execution_count": 1,
   "metadata": {
    "collapsed": true
   },
   "outputs": [],
   "source": [
    "import seaborn\n",
    "import pandas as pd\n",
    "import numpy as np\n",
    "import requests as req\n",
    "import json\n",
    "import matplotlib.pyplot as plt\n",
    "import csv\n",
    "import os\n",
    "import time\n",
    "import datetime\n",
    "import scipy as stats\n",
    "import arrow\n",
    "from citipy import citipy"
   ]
  },
  {
   "cell_type": "code",
   "execution_count": 2,
   "metadata": {
    "collapsed": false
   },
   "outputs": [
    {
     "name": "stderr",
     "output_type": "stream",
     "text": [
      "/Users/afhaque/anaconda/envs/PythonData/lib/python3.5/site-packages/IPython/core/interactiveshell.py:2717: DtypeWarning: Columns (1) have mixed types. Specify dtype option on import or set low_memory=False.\n",
      "  interactivity=interactivity, compiler=compiler, result=result)\n"
     ]
    }
   ],
   "source": [
    "data = pd.read_csv(\"seismic_data.csv\")"
   ]
  },
  {
   "cell_type": "code",
   "execution_count": 4,
   "metadata": {
    "collapsed": false
   },
   "outputs": [
    {
     "data": {
      "text/html": [
       "<div>\n",
       "<table border=\"1\" class=\"dataframe\">\n",
       "  <thead>\n",
       "    <tr style=\"text-align: right;\">\n",
       "      <th></th>\n",
       "      <th>Unnamed: 0</th>\n",
       "      <th>alert</th>\n",
       "      <th>cd_by_month</th>\n",
       "      <th>cd_by_year</th>\n",
       "      <th>cdi</th>\n",
       "      <th>code</th>\n",
       "      <th>converted_date</th>\n",
       "      <th>coordinates_3</th>\n",
       "      <th>detail</th>\n",
       "      <th>dmin</th>\n",
       "      <th>...</th>\n",
       "      <th>sources</th>\n",
       "      <th>status</th>\n",
       "      <th>time</th>\n",
       "      <th>title</th>\n",
       "      <th>tsunami</th>\n",
       "      <th>type</th>\n",
       "      <th>types</th>\n",
       "      <th>tz</th>\n",
       "      <th>updated</th>\n",
       "      <th>url</th>\n",
       "    </tr>\n",
       "  </thead>\n",
       "  <tbody>\n",
       "    <tr>\n",
       "      <th>0</th>\n",
       "      <td>0</td>\n",
       "      <td>NaN</td>\n",
       "      <td>04-1906</td>\n",
       "      <td>1906</td>\n",
       "      <td>NaN</td>\n",
       "      <td>16957905</td>\n",
       "      <td>04-18-1906</td>\n",
       "      <td>10.0</td>\n",
       "      <td>https://earthquake.usgs.gov/fdsnws/event/1/que...</td>\n",
       "      <td>NaN</td>\n",
       "      <td>...</td>\n",
       "      <td>,iscgem,</td>\n",
       "      <td>automatic</td>\n",
       "      <td>-2010394053000</td>\n",
       "      <td>M 7.7 - San Pablo Bay, California</td>\n",
       "      <td>0</td>\n",
       "      <td>earthquake</td>\n",
       "      <td>,origin,</td>\n",
       "      <td>NaN</td>\n",
       "      <td>1431543161000</td>\n",
       "      <td>https://earthquake.usgs.gov/earthquakes/eventp...</td>\n",
       "    </tr>\n",
       "    <tr>\n",
       "      <th>1</th>\n",
       "      <td>1</td>\n",
       "      <td>NaN</td>\n",
       "      <td>04-1906</td>\n",
       "      <td>1906</td>\n",
       "      <td>NaN</td>\n",
       "      <td>913200</td>\n",
       "      <td>04-18-1906</td>\n",
       "      <td>15.0</td>\n",
       "      <td>https://earthquake.usgs.gov/fdsnws/event/1/que...</td>\n",
       "      <td>NaN</td>\n",
       "      <td>...</td>\n",
       "      <td>,iscgem,is,iscgemsup,</td>\n",
       "      <td>automatic</td>\n",
       "      <td>-1624145807000</td>\n",
       "      <td>M 6.4 - offshore Northern California</td>\n",
       "      <td>0</td>\n",
       "      <td>earthquake</td>\n",
       "      <td>,origin,</td>\n",
       "      <td>NaN</td>\n",
       "      <td>1436806942000</td>\n",
       "      <td>https://earthquake.usgs.gov/earthquakes/eventp...</td>\n",
       "    </tr>\n",
       "  </tbody>\n",
       "</table>\n",
       "<p>2 rows × 34 columns</p>\n",
       "</div>"
      ],
      "text/plain": [
       "   Unnamed: 0 alert cd_by_month  cd_by_year  cdi      code converted_date  \\\n",
       "0           0   NaN     04-1906        1906  NaN  16957905     04-18-1906   \n",
       "1           1   NaN     04-1906        1906  NaN    913200     04-18-1906   \n",
       "\n",
       "   coordinates_3                                             detail  dmin  \\\n",
       "0           10.0  https://earthquake.usgs.gov/fdsnws/event/1/que...   NaN   \n",
       "1           15.0  https://earthquake.usgs.gov/fdsnws/event/1/que...   NaN   \n",
       "\n",
       "                         ...                                        sources  \\\n",
       "0                        ...                                       ,iscgem,   \n",
       "1                        ...                          ,iscgem,is,iscgemsup,   \n",
       "\n",
       "      status           time                                 title  tsunami  \\\n",
       "0  automatic -2010394053000     M 7.7 - San Pablo Bay, California        0   \n",
       "1  automatic -1624145807000  M 6.4 - offshore Northern California        0   \n",
       "\n",
       "         type     types  tz        updated  \\\n",
       "0  earthquake  ,origin, NaN  1431543161000   \n",
       "1  earthquake  ,origin, NaN  1436806942000   \n",
       "\n",
       "                                                 url  \n",
       "0  https://earthquake.usgs.gov/earthquakes/eventp...  \n",
       "1  https://earthquake.usgs.gov/earthquakes/eventp...  \n",
       "\n",
       "[2 rows x 34 columns]"
      ]
     },
     "execution_count": 4,
     "metadata": {},
     "output_type": "execute_result"
    }
   ],
   "source": [
    "data.head(2)"
   ]
  },
  {
   "cell_type": "code",
   "execution_count": 5,
   "metadata": {
    "collapsed": true
   },
   "outputs": [],
   "source": [
    "stuff = data[\"cd_by_month\"]"
   ]
  },
  {
   "cell_type": "code",
   "execution_count": 7,
   "metadata": {
    "collapsed": false
   },
   "outputs": [
    {
     "data": {
      "text/plain": [
       "0    04-1906\n",
       "1    04-1906\n",
       "2    07-1918\n",
       "3    05-1918\n",
       "4    04-1918\n",
       "Name: cd_by_month, dtype: object"
      ]
     },
     "execution_count": 7,
     "metadata": {},
     "output_type": "execute_result"
    }
   ],
   "source": [
    "stuff.head()"
   ]
  },
  {
   "cell_type": "code",
   "execution_count": 10,
   "metadata": {
    "collapsed": false
   },
   "outputs": [
    {
     "data": {
      "text/plain": [
       "<Arrow [1906-04-01T00:00:00+00:00]>"
      ]
     },
     "execution_count": 10,
     "metadata": {},
     "output_type": "execute_result"
    }
   ],
   "source": [
    "test = arrow.get('04-1906', 'MM-YYYY')\n",
    "test"
   ]
  },
  {
   "cell_type": "code",
   "execution_count": 12,
   "metadata": {
    "collapsed": false
   },
   "outputs": [
    {
     "data": {
      "text/plain": [
       "'-2011910400'"
      ]
     },
     "execution_count": 12,
     "metadata": {},
     "output_type": "execute_result"
    }
   ],
   "source": [
    "test.format('X')"
   ]
  },
  {
   "cell_type": "code",
   "execution_count": null,
   "metadata": {
    "collapsed": true
   },
   "outputs": [],
   "source": []
  }
 ],
 "metadata": {
  "anaconda-cloud": {},
  "kernelspec": {
   "display_name": "Python [conda env:PythonData]",
   "language": "python",
   "name": "conda-env-PythonData-py"
  },
  "language_info": {
   "codemirror_mode": {
    "name": "ipython",
    "version": 3
   },
   "file_extension": ".py",
   "mimetype": "text/x-python",
   "name": "python",
   "nbconvert_exporter": "python",
   "pygments_lexer": "ipython3",
   "version": "3.5.2"
  }
 },
 "nbformat": 4,
 "nbformat_minor": 1
}
