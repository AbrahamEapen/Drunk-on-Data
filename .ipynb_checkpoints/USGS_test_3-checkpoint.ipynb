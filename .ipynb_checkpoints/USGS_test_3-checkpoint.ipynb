{
 "cells": [
  {
   "cell_type": "code",
   "execution_count": 2,
   "metadata": {
    "collapsed": false
   },
   "outputs": [],
   "source": [
    "import seaborn\n",
    "import pandas as pd\n",
    "import numpy as np\n",
    "import requests as req\n",
    "import json\n",
    "import matplotlib.pyplot as plt\n",
    "import csv\n",
    "import os\n",
    "import time\n",
    "import datetime\n",
    "import scipy as stats\n",
    "import arrow\n",
    "from citipy import citipy"
   ]
  },
  {
   "cell_type": "code",
   "execution_count": null,
   "metadata": {
    "collapsed": true
   },
   "outputs": [],
   "source": [
    "# Lists for holding Us Geological Survey (USGS) json data\n",
    "mag_data = []\n",
    "place_data = []\n",
    "time_data = []\n",
    "updated_data = []\n",
    "tz_data = []\n",
    "url_data = []\n",
    "detail_data = []\n",
    "felt_data = []\n",
    "cdi_data = []\n",
    "mmi_data = []\n",
    "alert_data = []\n",
    "status_data = []\n",
    "tsunami_data = []\n",
    "sig_data = []\n",
    "net_data = []\n",
    "code_data = []\n",
    "ids_data = []\n",
    "sources_data = []\n",
    "types_data = []\n",
    "nst_data = []\n",
    "dmin_data = []\n",
    "rms_data = []\n",
    "gap_data = []\n",
    "magType_data = []\n",
    "type_data = []\n",
    "title_data = []\n",
    "geo_type_data = []\n",
    "lng_data = []\n",
    "lat_data = []\n",
    "coordinates_3_data = []\n",
    "\n",
    "#calculated lists\n",
    "converted_date = []\n",
    "cd_by_month = []\n",
    "cd_by_year = []"
   ]
  },
  {
   "cell_type": "code",
   "execution_count": null,
   "metadata": {
    "collapsed": true
   },
   "outputs": [],
   "source": [
    "#https://earthquake.usgs.gov/fdsnws/event/1/query.geojson?starttime=2017-07-14%2000:00:00&endtime=2017-09-21%2023:59:59&maxlatitude=50&minlatitude=24.6&maxlongitude=-65&minlongitude=-125&minmagnitude=2.5&orderby=time\n",
    "\n",
    "years = 5\n",
    "start = 1900\n",
    "end = 2020\n",
    "start_loop = start\n",
    "\n",
    "json_returns = ((end-start)/years)+1\n",
    "\n",
    "\n",
    "\n",
    "for x in range(int(json_returns)):\n",
    "\n",
    "    url_bit_1 = \"https://earthquake.usgs.gov/fdsnws/event/1/query.geojson?starttime=\"\n",
    "    year_from_1 = str(start_loop)\n",
    "    year_from_2= \"-01-01\"\n",
    "    year_to = str(int(year_from_1) + years)\n",
    "    url_bit_2= \"-01-01%0000:00:00&maxlatitude=50&minlatitude=24.6&maxlongitude=-65&minlongitude=-125&minmagnitude=2.5&orderby=time\"\n",
    "\n",
    "    # Build partial query URL\n",
    "    Search = url_bit_1 + year_from_1 + year_from_2  + \"%0000:00:01&endtime=\" + year_to + url_bit_2\n",
    "    #Search\n",
    "\n",
    "    # set response variable\n",
    "    response = req.get(Search).json()\n",
    "\n",
    "    # idetify how many seismic events are in our json\n",
    "    usgs_json_data = json.dumps(response)\n",
    "\n",
    "    item_dict = json.loads(usgs_json_data)\n",
    "\n",
    "    json_loops = len(item_dict['features'])\n",
    "\n",
    "    #append usgs_json_data into list form\n",
    "\n",
    "    json_counter = 0\n",
    "\n",
    "    for x in range(json_loops):\n",
    "\n",
    "        mag_data.append(response[\"features\"][json_counter][\"properties\"][\"mag\"])\n",
    "        place_data.append(response[\"features\"][json_counter][\"properties\"][\"place\"])\n",
    "        time_data.append(response[\"features\"][json_counter][\"properties\"][\"time\"])\n",
    "        updated_data.append(response[\"features\"][json_counter][\"properties\"][\"updated\"])\n",
    "        tz_data.append(response[\"features\"][json_counter][\"properties\"][\"tz\"])\n",
    "        url_data.append(response[\"features\"][json_counter][\"properties\"][\"url\"])\n",
    "        detail_data.append(response[\"features\"][json_counter][\"properties\"][\"detail\"])\n",
    "        felt_data.append(response[\"features\"][json_counter][\"properties\"][\"felt\"])\n",
    "        cdi_data.append(response[\"features\"][json_counter][\"properties\"][\"cdi\"])\n",
    "        mmi_data.append(response[\"features\"][json_counter][\"properties\"][\"mmi\"])\n",
    "        alert_data.append(response[\"features\"][json_counter][\"properties\"][\"alert\"])\n",
    "        status_data.append(response[\"features\"][json_counter][\"properties\"][\"status\"])\n",
    "        tsunami_data.append(response[\"features\"][json_counter][\"properties\"][\"tsunami\"])\n",
    "        sig_data.append(response[\"features\"][json_counter][\"properties\"][\"sig\"])\n",
    "        net_data.append(response[\"features\"][json_counter][\"properties\"][\"net\"])\n",
    "        code_data.append(response[\"features\"][json_counter][\"properties\"][\"code\"])\n",
    "        ids_data.append(response[\"features\"][json_counter][\"properties\"][\"ids\"])\n",
    "        sources_data.append(response[\"features\"][json_counter][\"properties\"][\"sources\"])\n",
    "        types_data.append(response[\"features\"][json_counter][\"properties\"][\"types\"])\n",
    "        nst_data.append(response[\"features\"][json_counter][\"properties\"][\"nst\"])\n",
    "        dmin_data.append(response[\"features\"][json_counter][\"properties\"][\"dmin\"])\n",
    "        rms_data.append(response[\"features\"][json_counter][\"properties\"][\"rms\"])\n",
    "        gap_data.append(response[\"features\"][json_counter][\"properties\"][\"gap\"])\n",
    "        magType_data.append(response[\"features\"][json_counter][\"properties\"][\"magType\"])\n",
    "        type_data.append(response[\"features\"][json_counter][\"properties\"][\"type\"])\n",
    "        title_data.append(response[\"features\"][json_counter][\"properties\"][\"title\"])\n",
    "        geo_type_data.append(response[\"features\"][json_counter][\"geometry\"][\"type\"])\n",
    "        lng_data.append(response[\"features\"][json_counter][\"geometry\"][\"coordinates\"][0])\n",
    "        lat_data.append(response[\"features\"][json_counter][\"geometry\"][\"coordinates\"][1])\n",
    "        coordinates_3_data.append(response[\"features\"][json_counter][\"geometry\"][\"coordinates\"][2])\n",
    "\n",
    "        \n",
    "        \n",
    "        # calculated fields\n",
    "        \n",
    "        converted_date.append((datetime.datetime(1970, 1, 1) + datetime.timedelta(milliseconds=time_data[len(converted_date)-1])).strftime('%m-%d-%Y'))\n",
    "        cd_by_month.append((datetime.datetime(1970, 1, 1) + datetime.timedelta(milliseconds=time_data[len(cd_by_month)-1])).strftime('%m-%Y'))\n",
    "        cd_by_year.append((datetime.datetime(1970, 1, 1) + datetime.timedelta(milliseconds=time_data[len(cd_by_year)-1])).strftime('%Y'))\n",
    "\n",
    "        # time.mktime(datetime.datetime.strptime(s, \"%d/%m/%Y\").timetuple())\n",
    "\n",
    "        #unix_month_year = time.mktime(datetime.datetime.strptime(seismic_data.cd_by_year, \"%d/%m/%Y\").timetuple())\n",
    "        # unix_year\n",
    "        \n",
    "               \n",
    "        json_counter = json_counter + 1    \n",
    "        \n",
    "    start_loop = year_to     "
   ]
  },
  {
   "cell_type": "code",
   "execution_count": null,
   "metadata": {
    "collapsed": true
   },
   "outputs": [],
   "source": [
    "seismic_data = {\"mag\" : mag_data,\n",
    "                \"place\" : place_data,\n",
    "                \"time\" : time_data,\n",
    "                \"updated\" : updated_data,\n",
    "                \"tz\" : tz_data,\n",
    "                \"url\" : url_data,\n",
    "                \"detail\" : detail_data,\n",
    "                \"felt\" : felt_data,\n",
    "                \"cdi\" : cdi_data,\n",
    "                \"mmi\" : mmi_data,\n",
    "                \"alert\" : alert_data,\n",
    "                \"status\" : status_data,\n",
    "                \"tsunami\" : tsunami_data,\n",
    "                \"sig\" : sig_data,\n",
    "                \"net\" : net_data,\n",
    "                \"code\" : code_data,\n",
    "                \"ids\" : ids_data,\n",
    "                \"sources\" : sources_data,\n",
    "                \"types\" : types_data,\n",
    "                \"nst\" : nst_data,\n",
    "                \"dmin\" : dmin_data,\n",
    "                \"rms\" : rms_data,\n",
    "                \"gap\" : gap_data,\n",
    "                \"magType\" : magType_data,\n",
    "                \"type\" : type_data,\n",
    "                \"title\" : title_data,\n",
    "                \"geo_type\" : geo_type_data,\n",
    "                \"lng\" : lng_data,\n",
    "                \"lat\" : lat_data,\n",
    "                \"coordinates_3\" : coordinates_3_data,\n",
    "\n",
    "                \"converted_date\" : converted_date,\n",
    "                \"cd_by_month\" : cd_by_month,\n",
    "                \"cd_by_year\" : cd_by_year,\n",
    "                \n",
    "               }\n",
    "\n",
    "seismic_data = pd.DataFrame(seismic_data)\n",
    "\n",
    "#first and last event\n",
    "year_range = seismic_data.iloc[0,2] + \" through \" + seismic_data.iloc[len(seismic_data)-1,2]\n"
   ]
  },
  {
   "cell_type": "code",
   "execution_count": null,
   "metadata": {
    "collapsed": true
   },
   "outputs": [],
   "source": [
    "seismic_data.to_csv(\"seismic_data.csv\")"
   ]
  },
  {
   "cell_type": "code",
   "execution_count": null,
   "metadata": {
    "collapsed": false
   },
   "outputs": [],
   "source": [
    "# Build a scatter plot for each data type\n",
    "plt.scatter(seismic_data[\"cd_by_year\"], seismic_data[\"mag\"], marker=\"o\")\n",
    "\n",
    "# Incorporate the other graph properties\n",
    "plt.title(\"Magnitude by Year\" + \" \" + year_range)\n",
    "plt.ylabel(\"Magnitude\")\n",
    "plt.xlabel(\"Years\")\n",
    "plt.grid(True)\n",
    "\n",
    "# Save the figure\n",
    "#plt.savefig(\"Magnitude by Month.png\")\n",
    "\n",
    "# Show plot\n",
    "plt.show()"
   ]
  },
  {
   "cell_type": "code",
   "execution_count": null,
   "metadata": {
    "collapsed": false
   },
   "outputs": [],
   "source": [
    "seismic_avg_year = seismic_data.groupby([\"cd_by_year\"]).mean()[\"mag\"]\n",
    "seismic_count_year = seismic_data.groupby([\"cd_by_year\"]).count()[\"mag\"]\n",
    "\n",
    "\n",
    "# time.mktime(datetime.datetime.strptime(s, \"%d/%m/%Y\").timetuple())\n",
    "\n",
    "# unix_month_year = seismic_data.[\"cd_by_year\"]\n",
    "# unix_year\n",
    "\n",
    "seismic_data2_df = pd.DataFrame({\"seismic_avg_year\" : seismic_avg_year,\n",
    "                                \"seismic_count_year\" : seismic_count_year,\n",
    "                                })\n",
    "\n",
    "seismic_data2_df = seismic_data2_df.reset_index()\n",
    "\n",
    "seismic_data2_df.head()\n"
   ]
  },
  {
   "cell_type": "code",
   "execution_count": null,
   "metadata": {
    "collapsed": false
   },
   "outputs": [],
   "source": [
    "# Build a scatter plot for each data type\n",
    "plt.scatter(seismic_data2_df[\"cd_by_year\"], seismic_data2_df[\"seismic_avg_year\"], marker=\"o\", c=[\"red\"])\n",
    "plt.scatter(seismic_data2_df[\"cd_by_year\"], seismic_data2_df[\"seismic_count_year\"]/2000, marker=\"o\", c=[\"blue\"])\n",
    "\n",
    "# Incorporate the other graph properties\n",
    "plt.title(\"Magnitude and Count by Year\" + \" \" + year_range)\n",
    "plt.ylabel(\"Average Magnitude/ Siesmic Activity/ 2000\")\n",
    "plt.xlabel(\"Years\")\n",
    "plt.grid(True)\n",
    "\n",
    "# Save the figure\n",
    "#plt.savefig(\"Magnitude and Count by Year.png\")\n",
    "\n",
    "plt.legend(bbox_to_anchor=(1.3, 1))\n",
    "\n",
    "# Show plot\n",
    "plt.show()"
   ]
  },
  {
   "cell_type": "code",
   "execution_count": null,
   "metadata": {
    "collapsed": true
   },
   "outputs": [],
   "source": []
  },
  {
   "cell_type": "code",
   "execution_count": null,
   "metadata": {
    "collapsed": false
   },
   "outputs": [],
   "source": [
    "seismic_avg_year = seismic_data.groupby([\"cd_by_month\"]).mean()[\"mag\"]\n",
    "seismic_count_year = seismic_data.groupby([\"cd_by_month\"]).count()[\"mag\"]\n",
    "\n",
    "seismic_data2_df = pd.DataFrame({\"seismic_avg_year\" : seismic_avg_year,\n",
    "                                \"seismic_count_year\" : seismic_count_year,\n",
    "                                })\n",
    "\n",
    "seismic_data2_df = seismic_data2_df.reset_index()\n",
    "\n",
    "seismic_data2_df.head()"
   ]
  },
  {
   "cell_type": "code",
   "execution_count": null,
   "metadata": {
    "collapsed": false
   },
   "outputs": [],
   "source": [
    "# import matplotlib.dates as mdates\n",
    "\n",
    "# a = pd.DatetimeIndex(start='2010-01-01',end='2014-01-01' , freq='D')\n",
    "# b = pd.Series(np.random.randn(len(a)), index=a)\n",
    "# fig, ax = plt.subplots()\n",
    "# ax.plot(b.index, b)\n",
    "# ax.xaxis.set_major_formatter(mdates.DateFormatter('%Y-%m'))\n",
    "\n",
    "\n",
    "\n",
    "\n",
    "# Build a scatter plot for each data type\n",
    "plt.scatter(seismic_data2_df[\"cd_by_month\"], seismic_data2_df[\"seismic_avg_year\"], marker=\"o\", c=[\"red\"])\n",
    "plt.scatter(seismic_data2_df[\"cd_by_month\"], seismic_data2_df[\"seismic_count_year\"]/2000, marker=\"o\", c=[\"blue\"])\n",
    "\n",
    "# Incorporate the other graph properties\n",
    "plt.title(\"Magnitude and Count by Month\" + \" \" + year_range)\n",
    "plt.ylabel(\"Average Magnitude/ Siesmic Activity/ 2000\")\n",
    "plt.xlabel(\"Years\")\n",
    "plt.grid(True)\n",
    "\n",
    "# Save the figure\n",
    "#plt.savefig(\"Magnitude and Count by Month.png\")\n",
    "\n",
    "plt.legend(bbox_to_anchor=(1.3, 1))\n",
    "\n",
    "# Show plot\n",
    "plt.show()"
   ]
  },
  {
   "cell_type": "code",
   "execution_count": null,
   "metadata": {
    "collapsed": true
   },
   "outputs": [],
   "source": [
    "# time.mktime(datetime.datetime.strptime(s, \"%d/%m/%Y\").timetuple())\n",
    "\n",
    "unix_month_year = time.mktime(datetime.datetime.strptime(09 2017, \"%m %Y\").timetuple())\n",
    "# unix_year\n",
    "\n",
    "\n",
    "\n",
    "unix_month_year\n",
    "#seismic_data.cd_by_year"
   ]
  },
  {
   "cell_type": "code",
   "execution_count": null,
   "metadata": {
    "collapsed": true
   },
   "outputs": [],
   "source": [
    "cd_by_month"
   ]
  },
  {
   "cell_type": "code",
   "execution_count": null,
   "metadata": {
    "collapsed": false
   },
   "outputs": [],
   "source": [
    "Search"
   ]
  },
  {
   "cell_type": "code",
   "execution_count": null,
   "metadata": {
    "collapsed": false
   },
   "outputs": [],
   "source": [
    "cd_by_month"
   ]
  },
  {
   "cell_type": "code",
   "execution_count": null,
   "metadata": {
    "collapsed": false
   },
   "outputs": [],
   "source": [
    "# cd_by_month\n",
    "\n",
    "cv_time = datetime.datetime.strptime('01-04-1906',\"%d-%m-%Y\")\n",
    "time.mktime(cv_time.timetuple())"
   ]
  },
  {
   "cell_type": "code",
   "execution_count": null,
   "metadata": {
    "collapsed": false
   },
   "outputs": [],
   "source": [
    "cv_time = datetime.datetime.strptime('1971-01-04',\"%Y-%m-%d\")\n",
    "time.mktime(cv_time.timetuple())"
   ]
  },
  {
   "cell_type": "code",
   "execution_count": null,
   "metadata": {
    "collapsed": false
   },
   "outputs": [],
   "source": [
    "ct_time = datetime.datetime.strptime(\"04-1971\",\"%m-%Y\")\n",
    "time.mktime(ct_time.timetuple())"
   ]
  },
  {
   "cell_type": "code",
   "execution_count": null,
   "metadata": {
    "collapsed": true
   },
   "outputs": [],
   "source": [
    "# time.mktime(datetime.datetime.strptime(s, \"%d/%m/%Y\").timetuple())\n"
   ]
  },
  {
   "cell_type": "code",
   "execution_count": null,
   "metadata": {
    "collapsed": false
   },
   "outputs": [],
   "source": [
    "#datetime.datetime(1970, 1, 1) + datetime.timedelta(seconds=(-3739996800000/1000))\n",
    "#string_time = 01-01-1971\n",
    "\n",
    "#datetime.datetime(1970, 1, 1) + datetime.timedelta(seconds=(string_time/1000))\n",
    "\n",
    "#datetime.datetime(1970, 1, 1) + datetime.timedelta(seconds=(-3739996800000/1000))\n",
    "\n",
    "datetime.datetime(1970, 1, 1) - datetime.timedelta((1969, 1, 1) * 1000)"
   ]
  },
  {
   "cell_type": "code",
   "execution_count": null,
   "metadata": {
    "collapsed": false
   },
   "outputs": [],
   "source": [
    "import datetime\n",
    "cv_time = 01.01.1970\n",
    "\n",
    "# replace datetime.datetime.now() with your datetime object\n",
    "#int(datetime.datetime.now().strftime(\"%s\")) * 1000\n",
    "\n",
    "int(cv_time.strftime(\"%s\")) * 1000"
   ]
  },
  {
   "cell_type": "code",
   "execution_count": null,
   "metadata": {
    "collapsed": false
   },
   "outputs": [],
   "source": [
    "time.mktime(cv_time.timetuple()) * 1000"
   ]
  },
  {
   "cell_type": "code",
   "execution_count": null,
   "metadata": {
    "collapsed": false
   },
   "outputs": [],
   "source": [
    "from datetime import datetime\n",
    "from time import mktime\n",
    "\n",
    "dt = (\"01-01-1970\", \"%d-%m-%Y\")\n",
    "sec_since_epoch = mktime(dt.timetuple()) + dt.microsecond/1000000.0\n",
    "\n",
    "sec_since_epoch"
   ]
  },
  {
   "cell_type": "code",
   "execution_count": null,
   "metadata": {
    "collapsed": false
   },
   "outputs": [],
   "source": [
    "import datetime\n",
    "import delorean\n",
    "dt = datetime.datetime.utc(\"01-01-1970\", \"%d-%m-%Y\")\n",
    "delorean.Delorean(dt, timezone=\"UTC\").epoch"
   ]
  },
  {
   "cell_type": "code",
   "execution_count": null,
   "metadata": {
    "collapsed": false
   },
   "outputs": [],
   "source": [
    "from datetime import datetime\n",
    "from time import mktime\n",
    "\n",
    "dt = datetime.utc(\"01-01-1970\", \"%d-%m-%Y\")\n",
    "sec_since_epoch = mktime(dt.timetuple()) + dt.microsecond/1000000.0\n",
    "\n",
    "millis_since_epoch = sec_since_epoch * 1000\n",
    "millis_since_epoch"
   ]
  },
  {
   "cell_type": "code",
   "execution_count": null,
   "metadata": {
    "collapsed": false
   },
   "outputs": [],
   "source": [
    "int(datetime(time.strptime('1969-01-01', '%Y-%m-%d')))"
   ]
  },
  {
   "cell_type": "code",
   "execution_count": null,
   "metadata": {
    "collapsed": false
   },
   "outputs": [],
   "source": [
    "datetime.datetime(2012,04,01,0,0).strftime('%s')"
   ]
  },
  {
   "cell_type": "code",
   "execution_count": null,
   "metadata": {
    "collapsed": true
   },
   "outputs": [],
   "source": []
  },
  {
   "cell_type": "code",
   "execution_count": null,
   "metadata": {
    "collapsed": true
   },
   "outputs": [],
   "source": []
  }
 ],
 "metadata": {
  "anaconda-cloud": {},
  "kernelspec": {
   "display_name": "Python [conda env:PythonData]",
   "language": "python",
   "name": "conda-env-PythonData-py"
  },
  "language_info": {
   "codemirror_mode": {
    "name": "ipython",
    "version": 3
   },
   "file_extension": ".py",
   "mimetype": "text/x-python",
   "name": "python",
   "nbconvert_exporter": "python",
   "pygments_lexer": "ipython3",
   "version": "3.5.2"
  }
 },
 "nbformat": 4,
 "nbformat_minor": 2
}
