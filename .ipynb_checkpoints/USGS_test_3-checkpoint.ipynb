{
 "cells": [
  {
   "cell_type": "code",
   "execution_count": 1,
   "metadata": {},
   "outputs": [
    {
     "ename": "ModuleNotFoundError",
     "evalue": "No module named 'arrow'",
     "output_type": "error",
     "traceback": [
      "\u001b[1;31m---------------------------------------------------------------------------\u001b[0m",
      "\u001b[1;31mModuleNotFoundError\u001b[0m                       Traceback (most recent call last)",
      "\u001b[1;32m<ipython-input-1-b211c35d4941>\u001b[0m in \u001b[0;36m<module>\u001b[1;34m()\u001b[0m\n\u001b[0;32m     11\u001b[0m \u001b[1;31m#import iso8601\u001b[0m\u001b[1;33m\u001b[0m\u001b[1;33m\u001b[0m\u001b[0m\n\u001b[0;32m     12\u001b[0m \u001b[1;32mimport\u001b[0m \u001b[0mscipy\u001b[0m \u001b[1;32mas\u001b[0m \u001b[0mstats\u001b[0m\u001b[1;33m\u001b[0m\u001b[0m\n\u001b[1;32m---> 13\u001b[1;33m \u001b[1;32mimport\u001b[0m \u001b[0marrow\u001b[0m\u001b[1;33m\u001b[0m\u001b[0m\n\u001b[0m\u001b[0;32m     14\u001b[0m \u001b[1;32mfrom\u001b[0m \u001b[0mcitipy\u001b[0m \u001b[1;32mimport\u001b[0m \u001b[0mcitipy\u001b[0m\u001b[1;33m\u001b[0m\u001b[0m\n",
      "\u001b[1;31mModuleNotFoundError\u001b[0m: No module named 'arrow'"
     ]
    }
   ],
   "source": [
    "import seaborn\n",
    "import pandas as pd\n",
    "import numpy as np\n",
    "import requests as req\n",
    "import json\n",
    "import matplotlib.pyplot as plt\n",
    "import csv\n",
    "import os\n",
    "import time\n",
    "import datetime\n",
    "#import iso8601\n",
    "import scipy as stats\n",
    "import arrow\n",
    "from citipy import citipy"
   ]
  },
  {
   "cell_type": "code",
   "execution_count": null,
   "metadata": {
    "collapsed": true
   },
   "outputs": [],
   "source": [
    "# Lists for holding Us Geological Survey (USGS) json data\n",
    "mag_data = []\n",
    "place_data = []\n",
    "time_data = []\n",
    "updated_data = []\n",
    "tz_data = []\n",
    "url_data = []\n",
    "detail_data = []\n",
    "felt_data = []\n",
    "cdi_data = []\n",
    "mmi_data = []\n",
    "alert_data = []\n",
    "status_data = []\n",
    "tsunami_data = []\n",
    "sig_data = []\n",
    "net_data = []\n",
    "code_data = []\n",
    "ids_data = []\n",
    "sources_data = []\n",
    "types_data = []\n",
    "nst_data = []\n",
    "dmin_data = []\n",
    "rms_data = []\n",
    "gap_data = []\n",
    "magType_data = []\n",
    "type_data = []\n",
    "title_data = []\n",
    "geo_type_data = []\n",
    "lat_data = []\n",
    "lng_data = []\n",
    "coordinates_3_data = []\n",
    "\n",
    "#calculated lists\n",
    "converted_date = []\n",
    "cd_by_month = []\n",
    "cd_by_year = []"
   ]
  },
  {
   "cell_type": "code",
   "execution_count": null,
   "metadata": {
    "collapsed": true
   },
   "outputs": [],
   "source": [
    "#https://earthquake.usgs.gov/fdsnws/event/1/query.geojson?starttime=2017-07-14%2000:00:00&endtime=2017-09-21%2023:59:59&maxlatitude=50&minlatitude=24.6&maxlongitude=-65&minlongitude=-125&minmagnitude=2.5&orderby=time\n",
    "\n",
    "start = 1950\n",
    "start_loop = start\n",
    "\n",
    "#range should be 14 to retrieve 1950 to present data\n",
    "\n",
    "for x in range(14):\n",
    "\n",
    "    url_bit_1 = \"https://earthquake.usgs.gov/fdsnws/event/1/query.geojson?starttime=\"\n",
    "    year_from_1 = str(start_loop)\n",
    "    year_from_2= \"-01-01\"\n",
    "    year_to = str(int(year_from_1) + 5)\n",
    "    url_bit_2= \"-01-01%0000:00:00&maxlatitude=50&minlatitude=24.6&maxlongitude=-65&minlongitude=-125&minmagnitude=2.5&orderby=time\"\n",
    "\n",
    "    # Build partial query URL\n",
    "    Search = url_bit_1 + year_from_1 + year_from_2  + \"%0000:00:01&endtime=\" + year_to + url_bit_2\n",
    "    #Search\n",
    "\n",
    "    year_range = str(start) + \" through \" + str(year_to)\n",
    "    #year_range\n",
    "\n",
    "    # set response variable\n",
    "    response = req.get(Search).json()\n",
    "\n",
    "    # idetify how many seismic events are in our json\n",
    "    usgs_json_data = json.dumps(response)\n",
    "\n",
    "    item_dict = json.loads(usgs_json_data)\n",
    "\n",
    "    json_loops = len(item_dict['features'])\n",
    "\n",
    "    #append usgs_json_data into list form\n",
    "\n",
    "    json_counter = 0\n",
    "\n",
    "    for x in range(json_loops):\n",
    "\n",
    "        mag_data.append(response[\"features\"][json_counter][\"properties\"][\"mag\"])\n",
    "        place_data.append(response[\"features\"][json_counter][\"properties\"][\"place\"])\n",
    "        time_data.append(response[\"features\"][json_counter][\"properties\"][\"time\"])\n",
    "        updated_data.append(response[\"features\"][json_counter][\"properties\"][\"updated\"])\n",
    "        tz_data.append(response[\"features\"][json_counter][\"properties\"][\"tz\"])\n",
    "        url_data.append(response[\"features\"][json_counter][\"properties\"][\"url\"])\n",
    "        detail_data.append(response[\"features\"][json_counter][\"properties\"][\"detail\"])\n",
    "        felt_data.append(response[\"features\"][json_counter][\"properties\"][\"felt\"])\n",
    "        cdi_data.append(response[\"features\"][json_counter][\"properties\"][\"cdi\"])\n",
    "        mmi_data.append(response[\"features\"][json_counter][\"properties\"][\"mmi\"])\n",
    "        alert_data.append(response[\"features\"][json_counter][\"properties\"][\"alert\"])\n",
    "        status_data.append(response[\"features\"][json_counter][\"properties\"][\"status\"])\n",
    "        tsunami_data.append(response[\"features\"][json_counter][\"properties\"][\"tsunami\"])\n",
    "        sig_data.append(response[\"features\"][json_counter][\"properties\"][\"sig\"])\n",
    "        net_data.append(response[\"features\"][json_counter][\"properties\"][\"net\"])\n",
    "        code_data.append(response[\"features\"][json_counter][\"properties\"][\"code\"])\n",
    "        ids_data.append(response[\"features\"][json_counter][\"properties\"][\"ids\"])\n",
    "        sources_data.append(response[\"features\"][json_counter][\"properties\"][\"sources\"])\n",
    "        types_data.append(response[\"features\"][json_counter][\"properties\"][\"types\"])\n",
    "        nst_data.append(response[\"features\"][json_counter][\"properties\"][\"nst\"])\n",
    "        dmin_data.append(response[\"features\"][json_counter][\"properties\"][\"dmin\"])\n",
    "        rms_data.append(response[\"features\"][json_counter][\"properties\"][\"rms\"])\n",
    "        gap_data.append(response[\"features\"][json_counter][\"properties\"][\"gap\"])\n",
    "        magType_data.append(response[\"features\"][json_counter][\"properties\"][\"magType\"])\n",
    "        type_data.append(response[\"features\"][json_counter][\"properties\"][\"type\"])\n",
    "        title_data.append(response[\"features\"][json_counter][\"properties\"][\"title\"])\n",
    "        geo_type_data.append(response[\"features\"][json_counter][\"geometry\"][\"type\"])\n",
    "        lat_data.append(response[\"features\"][json_counter][\"geometry\"][\"coordinates\"][0])\n",
    "        lng_data.append(response[\"features\"][json_counter][\"geometry\"][\"coordinates\"][1])\n",
    "        coordinates_3_data.append(response[\"features\"][json_counter][\"geometry\"][\"coordinates\"][2])\n",
    "        \n",
    "        \n",
    "        # calculated fields\n",
    "        \n",
    "        converted_date.append((datetime.datetime(1970, 1, 1) + datetime.timedelta(milliseconds=time_data[len(converted_date)-1])).strftime('%m-%d-%Y'))\n",
    "        cd_by_month.append((datetime.datetime(1970, 1, 1) + datetime.timedelta(milliseconds=time_data[len(cd_by_month)-1])).strftime('%m-%Y'))\n",
    "        cd_by_year.append((datetime.datetime(1970, 1, 1) + datetime.timedelta(milliseconds=time_data[len(cd_by_year)-1])).strftime('%Y'))\n",
    "\n",
    "        json_counter = json_counter + 1    \n",
    "        \n",
    "    start_loop = year_to     "
   ]
  },
  {
   "cell_type": "code",
   "execution_count": null,
   "metadata": {},
   "outputs": [],
   "source": [
    "seismic_data = {\"mag\" : mag_data,\n",
    "                \"place\" : place_data,\n",
    "                \"time\" : time_data,\n",
    "                \"updated\" : updated_data,\n",
    "                \"tz\" : tz_data,\n",
    "                \"url\" : url_data,\n",
    "                \"detail\" : detail_data,\n",
    "                \"felt\" : felt_data,\n",
    "                \"cdi\" : cdi_data,\n",
    "                \"mmi\" : mmi_data,\n",
    "                \"alert\" : alert_data,\n",
    "                \"status\" : status_data,\n",
    "                \"tsunami\" : tsunami_data,\n",
    "                \"sig\" : sig_data,\n",
    "                \"net\" : net_data,\n",
    "                \"code\" : code_data,\n",
    "                \"ids\" : ids_data,\n",
    "                \"sources\" : sources_data,\n",
    "                \"types\" : types_data,\n",
    "                \"nst\" : nst_data,\n",
    "                \"dmin\" : dmin_data,\n",
    "                \"rms\" : rms_data,\n",
    "                \"gap\" : gap_data,\n",
    "                \"magType\" : magType_data,\n",
    "                \"type\" : type_data,\n",
    "                \"title\" : title_data,\n",
    "                \"geo_type\" : geo_type_data,\n",
    "                \"lat\" : lat_data,\n",
    "                \"lng\" : lng_data,\n",
    "                \"coordinates_3\" : coordinates_3_data,\n",
    "                \n",
    "                \"converted_date\" : converted_date,\n",
    "                \"cd_by_month\" : cd_by_month,\n",
    "                \"cd_by_year\" : cd_by_year,\n",
    "               }\n",
    "\n",
    "seismic_data = pd.DataFrame(seismic_data)\n",
    "\n",
    "seismic_data\n"
   ]
  },
  {
   "cell_type": "code",
   "execution_count": null,
   "metadata": {},
   "outputs": [],
   "source": [
    "# final range returned\n",
    "year_range"
   ]
  },
  {
   "cell_type": "code",
   "execution_count": null,
   "metadata": {
    "collapsed": true
   },
   "outputs": [],
   "source": [
    "seismic_data.to_csv(\"./Resources/seismic_data.csv\")"
   ]
  },
  {
   "cell_type": "code",
   "execution_count": null,
   "metadata": {},
   "outputs": [],
   "source": [
    "# Build a scatter plot for each data type\n",
    "plt.scatter(seismic_data[\"cd_by_year\"], seismic_data[\"mag\"], marker=\"o\")\n",
    "\n",
    "# Incorporate the other graph properties\n",
    "plt.title(\"Magnitude by Year\") # + \" \" + date_stamp)\n",
    "plt.ylabel(\"Magnitude\")\n",
    "plt.xlabel(\"Years\")\n",
    "plt.grid(True)\n",
    "\n",
    "# Save the figure\n",
    "#plt.savefig(\"Magnitude by Month.png\")\n",
    "\n",
    "# Show plot\n",
    "plt.show()"
   ]
  },
  {
   "cell_type": "code",
   "execution_count": null,
   "metadata": {
    "collapsed": true
   },
   "outputs": [],
   "source": []
  },
  {
   "cell_type": "code",
   "execution_count": null,
   "metadata": {
    "collapsed": true
   },
   "outputs": [],
   "source": []
  },
  {
   "cell_type": "code",
   "execution_count": null,
   "metadata": {
    "collapsed": true
   },
   "outputs": [],
   "source": []
  },
  {
   "cell_type": "code",
   "execution_count": null,
   "metadata": {
    "collapsed": true
   },
   "outputs": [],
   "source": []
  },
  {
   "cell_type": "code",
   "execution_count": null,
   "metadata": {
    "collapsed": true
   },
   "outputs": [],
   "source": []
  }
 ],
 "metadata": {
  "kernelspec": {
   "display_name": "Python [conda env:PythonData]",
   "language": "python",
   "name": "conda-env-PythonData-py"
  },
  "language_info": {
   "codemirror_mode": {
    "name": "ipython",
    "version": 3
   },
   "file_extension": ".py",
   "mimetype": "text/x-python",
   "name": "python",
   "nbconvert_exporter": "python",
   "pygments_lexer": "ipython3",
   "version": "3.6.1"
  }
 },
 "nbformat": 4,
 "nbformat_minor": 2
}
