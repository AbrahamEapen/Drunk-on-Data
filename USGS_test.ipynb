{
 "cells": [
  {
   "cell_type": "code",
   "execution_count": 7,
   "metadata": {
    "collapsed": true
   },
   "outputs": [],
   "source": [
    "import seaborn\n",
    "import pandas as pd\n",
    "import numpy as np\n",
    "import requests as req\n",
    "import json\n",
    "import matplotlib.pyplot as plt\n",
    "import csv\n",
    "import os"
   ]
  },
  {
   "cell_type": "code",
   "execution_count": 16,
   "metadata": {},
   "outputs": [
    {
     "data": {
      "text/plain": [
       "'https://earthquake.usgs.gov/fdsnws/event/1/query.geojson?starttime=1950-01-01%0000:00:01&endtime=1960-01-01%0000:00:00&maxlatitude=50&minlatitude=24.6&maxlongitude=-65&minlongitude=-125&minmagnitude=2.5&orderby=time'"
      ]
     },
     "execution_count": 16,
     "metadata": {},
     "output_type": "execute_result"
    }
   ],
   "source": [
    "#https://earthquake.usgs.gov/fdsnws/event/1/query.geojson?starttime=2017-07-14%2000:00:00&endtime=2017-09-21%2023:59:59&maxlatitude=50&minlatitude=24.6&maxlongitude=-65&minlongitude=-125&minmagnitude=2.5&orderby=time\n",
    "\n",
    "start = 1950\n",
    "\n",
    "url_bit_1 = \"https://earthquake.usgs.gov/fdsnws/event/1/query.geojson?starttime=\"\n",
    "year_from_1 = str(start)\n",
    "year_from_2= \"-01-01\"\n",
    "year_to_1 = str(int(year_from_1) + 10)\n",
    "year_to_2= \"-01-01\"\n",
    "url_bit_2 =\"%0000:00:00&maxlatitude=50&minlatitude=24.6&maxlongitude=-65&minlongitude=-125&minmagnitude=2.5&orderby=time\"\n",
    "\n",
    "Search = url_bit_1 + year_from_1 + year_from_2  + \"%0000:00:01&endtime=\" + year_to_1 + year_to_2 + url_bit_2\n",
    "\n",
    "Search"
   ]
  },
  {
   "cell_type": "code",
   "execution_count": 9,
   "metadata": {},
   "outputs": [
    {
     "data": {
      "text/plain": [
       "'1950 to 1960'"
      ]
     },
     "execution_count": 9,
     "metadata": {},
     "output_type": "execute_result"
    }
   ],
   "source": [
    "year_range = year_from_1 + \" to \" + year_to_1\n",
    "year_range"
   ]
  },
  {
   "cell_type": "code",
   "execution_count": 10,
   "metadata": {},
   "outputs": [],
   "source": [
    "# Build partial query URL\n",
    "Search = url_bit_1 + year_from_1 + year_from_2  + \"%0000:00:01&endtime=\" + year_to_1 + year_to_2 + url_bit_2\n",
    "\n",
    "# Lists for holding Us Geological Survey (USGS) json data\n",
    "\n",
    "mag_data = [] \n",
    "place_data = [] \n",
    "time_data = [] \n",
    "updated_data = [] \n",
    "tz_data = [] \n",
    "url_data = [] \n",
    "detail_data = [] \n",
    "felt_data = [] \n",
    "cdi_data = [] \n",
    "mmi_data = [] \n",
    "alert_data = [] \n",
    "status_data = [] \n",
    "tsunami_data = [] \n",
    "sig_data = [] \n",
    "net_data = [] \n",
    "code_data = [] \n",
    "ids_data = [] \n",
    "sources_data = [] \n",
    "types_data = [] \n",
    "nst_data = [] \n",
    "dmin_data = [] \n",
    "rmp_data = [] \n",
    "gap_data = [] \n",
    "magType_data = [] \n",
    "types_data = [] \n",
    "title_data = [] \n",
    "type_data = [] \n",
    "coordinates_data = [] "
   ]
  },
  {
   "cell_type": "code",
   "execution_count": 15,
   "metadata": {},
   "outputs": [
    {
     "ename": "SyntaxError",
     "evalue": "invalid syntax (<ipython-input-15-09556863d90d>, line 31)",
     "output_type": "error",
     "traceback": [
      "\u001b[1;36m  File \u001b[1;32m\"<ipython-input-15-09556863d90d>\"\u001b[1;36m, line \u001b[1;32m31\u001b[0m\n\u001b[1;33m    mag_data.append(response.(features).get(\"properties\").get(\"mag\"))\u001b[0m\n\u001b[1;37m                             ^\u001b[0m\n\u001b[1;31mSyntaxError\u001b[0m\u001b[1;31m:\u001b[0m invalid syntax\n"
     ]
    }
   ],
   "source": [
    "# counter = 0\n",
    "\n",
    "#clear/ prep csv file for query log\n",
    "output_path = os.path.join(\"USGS_json_Query_log\")\n",
    "with open(output_path, 'w', newline='') as csvfile:\n",
    "            csvwriter = csv.writer(csvfile, delimiter=',')\n",
    "\n",
    "#for city in city_list: #---EDIT------------------------------------------------------------------------------------\n",
    "    \n",
    "# try:\n",
    "#     print(\"----------------------\")\n",
    "#     print(\"Now logging range # \" + str(counter))\n",
    "#     print(Search + year_range)\n",
    "response = req.get(Search).json()\n",
    "\n",
    "# Specify the file to write to\n",
    "output_path = os.path.join(\"USGS_json_Query_log\")\n",
    "\n",
    "# Open the file using \"write\" mode. Specify the variable to hold the contents\n",
    "with open(output_path, 'a', newline='') as csvfile:\n",
    "\n",
    "    # Initialize csv.writer\n",
    "    csvwriter = csv.writer(csvfile, delimiter=',')\n",
    "\n",
    "    # Write the first row (column headers)\n",
    "    csvwriter.writerow(['----------------------'])\n",
    "    csvwriter.writerow([\"Now logging range # \"+year_range])\n",
    "    csvwriter.writerow([Search + year_range]) \n",
    "\n",
    "\n",
    "mag_data.append(response.features.get(\"properties\").get(\"mag\"))\n",
    "#     place_data.append(response.get(\"properties\").get(\"place\"))\n",
    "#     time_data.append(response.get(\"properties\").get(\"time\"))\n",
    "#     updated_data.append(response.get(\"properties\").get(\"updated\"))\n",
    "#     tz_data.append(response.get(\"properties\").get(\"tz\"))\n",
    "#     url_data.append(response.get(\"properties\").get(\"url\"))\n",
    "#     detail_data.append(response.get(\"properties\").get(\"detail\"))\n",
    "#     felt_data.append(response.get(\"properties\").get(\"felt\"))\n",
    "#     cdi_data.append(response.get(\"properties\").get(\"cdi\"))\n",
    "#     mmi_data.append(response.get(\"properties\").get(\"mmi\"))\n",
    "#     alert_data.append(response.get(\"properties\").get(\"alert\"))\n",
    "#     status_data.append(response.get(\"properties\").get(\"status\"))\n",
    "#     tsunami_data.append(response.get(\"properties\").get(\"tsunami\"))\n",
    "#     sig_data.append(response.get(\"properties\").get(\"sig\"))\n",
    "#     net_data.append(response.get(\"properties\").get(\"net\"))\n",
    "#     code_data.append(response.get(\"properties\").get(\"code\"))\n",
    "#     ids_data.append(response.get(\"properties\").get(\"ids\"))\n",
    "#     sources_data.append(response.get(\"properties\").get(\"sources\"))\n",
    "#     types_data.append(response.get(\"properties\").get(\"types\"))\n",
    "#     nst_data.append(response.get(\"properties\").get(\"nst\"))\n",
    "#     dmin_data.append(response.get(\"properties\").get(\"dmin\"))\n",
    "#     rmp_data.append(response.get(\"properties\").get(\"rmp\"))\n",
    "#     gap_data.append(response.get(\"properties\").get(\"gap\"))\n",
    "#     magType_data.append(response.get(\"properties\").get(\"magType\"))\n",
    "#     types_data.append(response.get(\"properties\").get(\"types\"))\n",
    "#     title_data.append(response.get(\"properties\").get(\"title\"))\n",
    "#     type_data.append(response.get(\"geometry\").get(\"type\"))\n",
    "#     coordinates_data.append(response.get(\"geometry\").get(\"coordinates\"))\n",
    "\n",
    "\n",
    "\n",
    "#         counter = counter + 1\n",
    "#         if counter % 59 == 0:\n",
    "#             time.sleep(60)\n",
    "# except:\n",
    "# print(\"Skipping this...\")\n",
    "\n",
    "# weather_data = {\"City\" : city_data,\n",
    "#                 \"Cloudiness\": cloudiness_data,\n",
    "#                 \"Country\": country_data,\n",
    "#                 \"Date\": date_data,\n",
    "#                 \"Humidity\": humidity_data,\n",
    "#                 \"Lat\": lat_data,\n",
    "#                 \"Lng\": lon_data,\n",
    "#                 \"Max Temp\": max_temp_data,\n",
    "#                 \"Wind Speed\": wind_speed_data,\n",
    "#                 }\n",
    "\n",
    "# weather_data = pd.DataFrame(weather_data)\n",
    "\n",
    "# date_stamp = str(weather_data.iloc[0,3])\n",
    "# date_stamp = datetime.datetime.fromtimestamp(int(date_stamp)).strftime('%m-%d-%Y')\n",
    "\n",
    "# weather_data.count()"
   ]
  },
  {
   "cell_type": "code",
   "execution_count": null,
   "metadata": {},
   "outputs": [],
   "source": []
  },
  {
   "cell_type": "code",
   "execution_count": null,
   "metadata": {},
   "outputs": [],
   "source": []
  },
  {
   "cell_type": "code",
   "execution_count": null,
   "metadata": {
    "collapsed": true
   },
   "outputs": [],
   "source": []
  },
  {
   "cell_type": "code",
   "execution_count": null,
   "metadata": {
    "collapsed": true
   },
   "outputs": [],
   "source": []
  }
 ],
 "metadata": {
  "kernelspec": {
   "display_name": "Python [conda env:PythonData]",
   "language": "python",
   "name": "conda-env-PythonData-py"
  },
  "language_info": {
   "codemirror_mode": {
    "name": "ipython",
    "version": 3
   },
   "file_extension": ".py",
   "mimetype": "text/x-python",
   "name": "python",
   "nbconvert_exporter": "python",
   "pygments_lexer": "ipython3",
   "version": "3.6.1"
  }
 },
 "nbformat": 4,
 "nbformat_minor": 2
}
