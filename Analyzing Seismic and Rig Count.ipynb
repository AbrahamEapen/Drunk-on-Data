{
 "cells": [
  {
   "cell_type": "code",
   "execution_count": null,
   "metadata": {
    "collapsed": true
   },
   "outputs": [],
   "source": [
    "# Dependencies\n",
    "import numpy as np\n",
    "import pandas as pd\n",
    "import scipy.stats as stats\n",
    "import matplotlib.pyplot as plt\n",
    "import math\n",
    "import seaborn as sns\n",
    "from scipy.stats import kendalltau\n",
    "from scipy.stats import ttest_1samp\n",
    "sns.set(style=\"ticks\")\n",
    "import reverse_geocoder as rg\n",
    "from scipy.stats import ttest_ind"
   ]
  },
  {
   "cell_type": "code",
   "execution_count": null,
   "metadata": {},
   "outputs": [],
   "source": [
    "# The path to our CSV file\n",
    "rig_file = \"rig_count_output.csv\"\n",
    "\n",
    "# Read our rig count data into pandas\n",
    "rig_df = pd.read_csv(rig_file)\n",
    "\n",
    "rig_df.head()"
   ]
  },
  {
   "cell_type": "code",
   "execution_count": null,
   "metadata": {},
   "outputs": [],
   "source": [
    "# The path to our CSV file\n",
    "seismic_file = \"seismic_data_9-28-17.csv\"\n",
    "\n",
    "# Read our rig count data into pandas\n",
    "seismic_df = pd.read_csv(seismic_file)\n",
    "\n",
    "seismic_df.columns"
   ]
  },
  {
   "cell_type": "code",
   "execution_count": null,
   "metadata": {},
   "outputs": [],
   "source": [
    "reverse_geo = seismic_df\n",
    "reverse_geo.columns"
   ]
  },
  {
   "cell_type": "code",
   "execution_count": null,
   "metadata": {},
   "outputs": [],
   "source": [
    "# Create a state column for the reverse_geo\n",
    "reverse_geo['State'] = ''\n",
    "reverse_geo.columns"
   ]
  },
  {
   "cell_type": "code",
   "execution_count": null,
   "metadata": {
    "collapsed": true
   },
   "outputs": [],
   "source": []
  },
  {
   "cell_type": "code",
   "execution_count": null,
   "metadata": {},
   "outputs": [],
   "source": [
    "#counter = 0\n",
    "#result = []\n",
    "\n",
    "# Populate the DF\n",
    "#for index, row in reverse_geo.iterrows():\n",
    " #   try:\n",
    "        # Counter keeps track of where we are in record retrieval process\n",
    "   #     counter += 1\n",
    "    #    coordinates = (row['lat'], row['lng'])\n",
    "     #   print(coordinates)\n",
    "        \n",
    "      #  result = rg.search(coordinates) # default mode = 2\n",
    "      #  print(result)\n",
    "        #state = result['admin1']\n",
    "        #print(result.get('admin1'))\n",
    "        \n",
    "        #reverse_geo.set_value(index, \"State\", result.get([OrderedDict][3]))#['admin1']))\n",
    "        #break\n",
    "        \n",
    "        \n",
    "                                      \n",
    "                                      \n",
    "       \n",
    "   # except:\n",
    "   #     print('error.')\n",
    "       \n",
    "        \n",
    "        \n",
    "#reverse_geo.head()"
   ]
  },
  {
   "cell_type": "code",
   "execution_count": null,
   "metadata": {},
   "outputs": [],
   "source": [
    "seismic_df.rename(columns={'epoch_by_month': 'Unix'}, inplace=True)\n",
    "seismic_df.head()"
   ]
  },
  {
   "cell_type": "code",
   "execution_count": null,
   "metadata": {},
   "outputs": [],
   "source": [
    "#seismic_df = seismic_df.pivot_table(index = 'Unix', aggfunc = np.mean)\n",
    "#seismic_df"
   ]
  },
  {
   "cell_type": "code",
   "execution_count": null,
   "metadata": {},
   "outputs": [],
   "source": [
    "#\"counter = 0\n",
    "\n",
    "#seismic_df['Time'] = ''\n",
    "#rig_count_df['Unix'] = ''\n",
    "# Populate the DF\n",
    "#for index, row in seismic_df.iterrows():\n",
    "  #  try:\n",
    "        # Counter keeps track of where we are in record retrieval process\n",
    "    #   counter += 1\n",
    "    #   seismic_df.set_value(index, \"Time\", counter)\n",
    "        \n",
    "        \n",
    "        \n",
    "                                      \n",
    "                                      \n",
    "       \n",
    " #   except:\n",
    "   #    print('error.')\n",
    "       \n",
    "        \n",
    "        \n",
    "#seismic_df.head()"
   ]
  },
  {
   "cell_type": "code",
   "execution_count": null,
   "metadata": {},
   "outputs": [],
   "source": [
    "combined_df = pd.merge(rig_df, seismic_df, on = 'Unix', how='left', right_index = False, left_index=True)\n",
    "combined_df\n",
    "\n",
    "#rig_df.join(seismic_df)\n",
    "#rig_df.columns"
   ]
  },
  {
   "cell_type": "code",
   "execution_count": null,
   "metadata": {
    "collapsed": true
   },
   "outputs": [],
   "source": [
    "# Take a look at it in CSV\n",
    "combined_df.to_csv(\"combined_inner_data.csv\")"
   ]
  },
  {
   "cell_type": "code",
   "execution_count": null,
   "metadata": {},
   "outputs": [],
   "source": [
    "x = (combined_df[\"Unix\"])\n",
    "\n",
    "y1 = combined_df[\"mag\"]\n",
    "y2 = combined_df[\"TOTAL US\"]\n",
    "\n",
    "\n",
    "fig, ax1 = plt.subplots()\n",
    "ax2 = ax1.twinx()\n",
    "ax1.scatter(x, y1, c='r')\n",
    "ax2.scatter(x, y2, c='green')\n",
    "\n",
    "\n",
    "#ax1.set_ylim(2.5, 4)\n",
    "\n",
    "# Incorporate the other graph properties\n",
    "plt.title(\"Earthquake Magnitude and Rig Count by Month/ Year\")# + \" \" + year_range)\n",
    "ax1.set_ylabel(\"Average Magnitude Earthquakes\", color = \"r\")\n",
    "ax2.set_ylabel(\"Average Rig Count\", color = \"green\")\n",
    "plt.xlabel(\"Years\")\n",
    "plt.grid(True)\n",
    "\n",
    "# Save the figure\n",
    "#plt.savefig(\"Magnitude and Count by Year.png\")\n",
    "\n",
    "\n",
    "# formatter = \n",
    "# plt.gcf().axes[0].xaxis.set_major_formatter(formatter)\n",
    "\n",
    "plt.show()"
   ]
  },
  {
   "cell_type": "code",
   "execution_count": null,
   "metadata": {},
   "outputs": [],
   "source": [
    "\n",
    "# Plot the Data\n",
    "plt.scatter(np.arange(0, len(combined_df)), combined_df['mag'], c=\"r\", alpha=0.09, label=\"Earthquakes\")\n",
    "plt.scatter(np.arange(0, len(combined_df)), combined_df['TOTAL US'],  c=\"b\", label=\"Rigs\")\n",
    "plt.legend(loc=\"best\")\n",
    "plt.xlabel(\"Rigs\")\n",
    "plt.ylabel(\"Earthquakes\")\n",
    "plt.title(\"Something\")\n",
    "plt.show()"
   ]
  },
  {
   "cell_type": "code",
   "execution_count": null,
   "metadata": {},
   "outputs": [],
   "source": [
    "# Draw a KDE chart in Seaborn\n",
    "sns.jointplot(x = combined_df['TOTAL US'], y = combined_df['mag'], size = 10, #data = combined_df['TOTAL US'], \n",
    "              kind=\"kde\", stat_func=ttest_ind, color=\"#4CB391\")\n",
    "\n",
    "#plt.xlim(0, 225)\n",
    "#plt.ylim(2.5, 4)\n",
    "plt.show()"
   ]
  },
  {
   "cell_type": "code",
   "execution_count": null,
   "metadata": {
    "scrolled": true
   },
   "outputs": [],
   "source": [
    "# Draw a KDE chart in Seaborn\n",
    "sns.jointplot(x = combined_df['Unix'], y = combined_df['TOTAL US'], size = 10, #data = combined_df['TOTAL US'], \n",
    "              kind=\"kde\", stat_func=kendalltau, color=\"#4CB391\")\n",
    "\n",
    "#plt.xlim(0, 225)\n",
    "#plt.ylim(2.5, 4)\n",
    "plt.show()"
   ]
  },
  {
   "cell_type": "code",
   "execution_count": null,
   "metadata": {},
   "outputs": [],
   "source": [
    "# Draw a KDE chart in Seaborn\n",
    "sns.jointplot(x = combined_df['TOTAL US'], y = combined_df['mag'], size = 10 # data = rig_count_df\n",
    "              , kind=\"kde\", stat_func= ttest_ind, \n",
    "              color=\"#4CB391\")\n",
    "\n",
    "#plt.xlim(0, 225)\n",
    "#plt.ylim(2.5, 4)\n",
    "plt.show()"
   ]
  },
  {
   "cell_type": "code",
   "execution_count": null,
   "metadata": {},
   "outputs": [],
   "source": [
    "combined_df.columns"
   ]
  },
  {
   "cell_type": "code",
   "execution_count": null,
   "metadata": {},
   "outputs": [],
   "source": [
    "# Run 1-Sample T-Test\n",
    "stats.ttest_1samp(a=combined_df['TOTAL US'], popmean=combined_df['mag'].mean())"
   ]
  },
  {
   "cell_type": "code",
   "execution_count": null,
   "metadata": {},
   "outputs": [],
   "source": [
    "# Run 2-Sample T-Test\n",
    "stats.ttest_ind(combined_df['TOTAL US'], combined_df['mag'], equal_var=True)"
   ]
  },
  {
   "cell_type": "code",
   "execution_count": null,
   "metadata": {},
   "outputs": [],
   "source": [
    "# Run 2-Sample T-Test\n",
    "stats.ttest_ind(combined_df['Oklahoma'], combined_df['mag'], equal_var=False)"
   ]
  },
  {
   "cell_type": "code",
   "execution_count": null,
   "metadata": {},
   "outputs": [],
   "source": [
    "# Run 2-Sample T-Test\n",
    "stats.ttest_ind(combined_df['Alabama'], combined_df['mag'], equal_var=True)"
   ]
  },
  {
   "cell_type": "code",
   "execution_count": null,
   "metadata": {},
   "outputs": [],
   "source": [
    "# Run 2-Sample T-Test\n",
    "#stats.ttest_ind(seismic_df['mag'], rig_df['Texas'], equal_var=False)"
   ]
  },
  {
   "cell_type": "code",
   "execution_count": null,
   "metadata": {
    "collapsed": true
   },
   "outputs": [],
   "source": [
    "# Run Chi-Square Test to determine goodness of fit\n",
    "#stats.chisquare(f_obs=sorority_counts, f_exp=sorority_expected)"
   ]
  },
  {
   "cell_type": "code",
   "execution_count": null,
   "metadata": {
    "collapsed": true
   },
   "outputs": [],
   "source": []
  },
  {
   "cell_type": "code",
   "execution_count": null,
   "metadata": {
    "collapsed": true
   },
   "outputs": [],
   "source": [
    "# Chi-squared with contingency\n",
    "#stats.chi2_contingency(observed= observed)"
   ]
  },
  {
   "cell_type": "code",
   "execution_count": null,
   "metadata": {
    "collapsed": true
   },
   "outputs": [],
   "source": [
    "# Perform the ANOVA\n",
    "#stats.f_oneway(asian, black, hispanic, other, white)"
   ]
  }
 ],
 "metadata": {
  "kernelspec": {
   "display_name": "Python [conda env:PythonData]",
   "language": "python",
   "name": "conda-env-PythonData-py"
  },
  "language_info": {
   "codemirror_mode": {
    "name": "ipython",
    "version": 3
   },
   "file_extension": ".py",
   "mimetype": "text/x-python",
   "name": "python",
   "nbconvert_exporter": "python",
   "pygments_lexer": "ipython3",
   "version": "3.6.1"
  }
 },
 "nbformat": 4,
 "nbformat_minor": 2
}
