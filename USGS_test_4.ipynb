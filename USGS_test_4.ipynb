{
 "cells": [
  {
   "cell_type": "code",
   "execution_count": 42,
   "metadata": {
    "collapsed": true
   },
   "outputs": [],
   "source": [
    "import seaborn\n",
    "import pandas as pd\n",
    "import numpy as np\n",
    "import requests as req\n",
    "import json\n",
    "import matplotlib.pyplot as plt\n",
    "import csv\n",
    "import os\n",
    "import time\n",
    "import datetime\n",
    "import scipy as stats\n",
    "import arrow\n",
    "from citipy import citipy\n",
    "from matplotlib.dates import DateFormatter\n",
    "import matplotlib.ticker as mticker\n",
    "import matplotlib.dates as mdates\n",
    "import time"
   ]
  },
  {
   "cell_type": "code",
   "execution_count": 43,
   "metadata": {
    "collapsed": true
   },
   "outputs": [],
   "source": [
    "# Lists for holding Us Geological Survey (USGS) json data\n",
    "mag_data = []\n",
    "place_data = []\n",
    "time_data = []\n",
    "updated_data = []\n",
    "tz_data = []\n",
    "url_data = []\n",
    "detail_data = []\n",
    "felt_data = []\n",
    "cdi_data = []\n",
    "mmi_data = []\n",
    "alert_data = []\n",
    "status_data = []\n",
    "tsunami_data = []\n",
    "sig_data = []\n",
    "net_data = []\n",
    "code_data = []\n",
    "ids_data = []\n",
    "sources_data = []\n",
    "types_data = []\n",
    "nst_data = []\n",
    "dmin_data = []\n",
    "rms_data = []\n",
    "gap_data = []\n",
    "magType_data = []\n",
    "type_data = []\n",
    "title_data = []\n",
    "geo_type_data = []\n",
    "lng_data = []\n",
    "lat_data = []\n",
    "coordinates_3_data = []\n",
    "city_data = []\n",
    "\n",
    "#calculated lists\n",
    "converted_date = []\n",
    "cd_by_month = []\n",
    "cd_by_year = []\n",
    "cd_for_plot = []\n",
    "\n",
    "epoch_by_month = []\n"
   ]
  },
  {
   "cell_type": "code",
   "execution_count": 44,
   "metadata": {},
   "outputs": [],
   "source": [
    "#https://earthquake.usgs.gov/fdsnws/event/1/query.geojson?starttime=2017-07-14%2000:00:00&endtime=2017-09-21%2023:59:59&maxlatitude=50&minlatitude=24.6&maxlongitude=-65&minlongitude=-125&minmagnitude=2.5&orderby=time\n",
    "\n",
    "years = 5\n",
    "start = 1900\n",
    "end = 2025\n",
    "start_loop = start\n",
    "\n",
    "json_returns = (((end +5)-start)/years)+1\n",
    "\n",
    "\n",
    "\n",
    "for x in range(int(json_returns)):\n",
    "\n",
    "    url_bit_1 = \"https://earthquake.usgs.gov/fdsnws/event/1/query.geojson?starttime=\"\n",
    "    year_from_1 = str(start_loop)\n",
    "    year_from_2= \"-01-01\"\n",
    "    year_to = str(int(year_from_1) + years)\n",
    "    url_bit_2= \"-01-01%0000:00:00&maxlatitude=50&minlatitude=24.6&maxlongitude=-65&minlongitude=-125&minmagnitude=2.5&orderby=time\"\n",
    "\n",
    "    # Build partial query URL\n",
    "    Search = url_bit_1 + year_from_1 + year_from_2  + \"%0000:00:01&endtime=\" + year_to + url_bit_2\n",
    "    #Search\n",
    "\n",
    "    # set response variable\n",
    "    response = req.get(Search).json()\n",
    "\n",
    "    # idetify how many seismic events are in our json\n",
    "    usgs_json_data = json.dumps(response)\n",
    "\n",
    "    item_dict = json.loads(usgs_json_data)\n",
    "\n",
    "    json_loops = len(item_dict['features'])\n",
    "\n",
    "    #append usgs_json_data into list form\n",
    "\n",
    "    json_counter = 0\n",
    "\n",
    "    for x in range(json_loops):\n",
    "\n",
    "        mag_data.append(response[\"features\"][json_counter][\"properties\"][\"mag\"])\n",
    "        place_data.append(response[\"features\"][json_counter][\"properties\"][\"place\"])\n",
    "        time_data.append(response[\"features\"][json_counter][\"properties\"][\"time\"])\n",
    "        updated_data.append(response[\"features\"][json_counter][\"properties\"][\"updated\"])\n",
    "        tz_data.append(response[\"features\"][json_counter][\"properties\"][\"tz\"])\n",
    "        url_data.append(response[\"features\"][json_counter][\"properties\"][\"url\"])\n",
    "        detail_data.append(response[\"features\"][json_counter][\"properties\"][\"detail\"])\n",
    "        felt_data.append(response[\"features\"][json_counter][\"properties\"][\"felt\"])\n",
    "        cdi_data.append(response[\"features\"][json_counter][\"properties\"][\"cdi\"])\n",
    "        mmi_data.append(response[\"features\"][json_counter][\"properties\"][\"mmi\"])\n",
    "        alert_data.append(response[\"features\"][json_counter][\"properties\"][\"alert\"])\n",
    "        status_data.append(response[\"features\"][json_counter][\"properties\"][\"status\"])\n",
    "        tsunami_data.append(response[\"features\"][json_counter][\"properties\"][\"tsunami\"])\n",
    "        sig_data.append(response[\"features\"][json_counter][\"properties\"][\"sig\"])\n",
    "        net_data.append(response[\"features\"][json_counter][\"properties\"][\"net\"])\n",
    "        code_data.append(response[\"features\"][json_counter][\"properties\"][\"code\"])\n",
    "        ids_data.append(response[\"features\"][json_counter][\"properties\"][\"ids\"])\n",
    "        sources_data.append(response[\"features\"][json_counter][\"properties\"][\"sources\"])\n",
    "        types_data.append(response[\"features\"][json_counter][\"properties\"][\"types\"])\n",
    "        nst_data.append(response[\"features\"][json_counter][\"properties\"][\"nst\"])\n",
    "        dmin_data.append(response[\"features\"][json_counter][\"properties\"][\"dmin\"])\n",
    "        rms_data.append(response[\"features\"][json_counter][\"properties\"][\"rms\"])\n",
    "        gap_data.append(response[\"features\"][json_counter][\"properties\"][\"gap\"])\n",
    "        magType_data.append(response[\"features\"][json_counter][\"properties\"][\"magType\"])\n",
    "        type_data.append(response[\"features\"][json_counter][\"properties\"][\"type\"])\n",
    "        title_data.append(response[\"features\"][json_counter][\"properties\"][\"title\"])\n",
    "        geo_type_data.append(response[\"features\"][json_counter][\"geometry\"][\"type\"])\n",
    "        lng_data.append(response[\"features\"][json_counter][\"geometry\"][\"coordinates\"][0])\n",
    "        lat_data.append(response[\"features\"][json_counter][\"geometry\"][\"coordinates\"][1])\n",
    "        coordinates_3_data.append(response[\"features\"][json_counter][\"geometry\"][\"coordinates\"][2])\n",
    "        city_data.append(citipy.nearest_city(lat_data[len(lat_data)-1], lng_data[len(lng_data)-1]).city_name)\n",
    "        \n",
    "        \n",
    "        # calculated fields\n",
    "        \n",
    "        converted_date.append((datetime.datetime(1970, 1, 1) + datetime.timedelta(milliseconds=time_data[len(converted_date)-1])).strftime('%m-%d-%Y'))\n",
    "        cd_by_month.append((datetime.datetime(1970, 1, 1) + datetime.timedelta(milliseconds=time_data[len(cd_by_month)-1])).strftime('%m-%Y'))\n",
    "        cd_by_year.append((datetime.datetime(1970, 1, 1) + datetime.timedelta(milliseconds=time_data[len(cd_by_year)-1])).strftime('%Y'))\n",
    "        cd_for_plot.append(datetime.datetime(1970, 1, 1) + datetime.timedelta(milliseconds=time_data[len(cd_by_month)-1]))\n",
    "        \n",
    "        \n",
    "        epoch_by_month.append(arrow.get(cd_by_month[len(cd_by_month)-1], 'MM-YYYY').format('X'))\n",
    "        \n",
    "               \n",
    "        json_counter = json_counter + 1    \n",
    "        \n",
    "    start_loop = year_to     "
   ]
  },
  {
   "cell_type": "code",
   "execution_count": 45,
   "metadata": {
    "collapsed": true
   },
   "outputs": [],
   "source": [
    "seismic_data = {\"mag\" : mag_data,\n",
    "                \"place\" : place_data,\n",
    "                \"time\" : time_data,\n",
    "                \"updated\" : updated_data,\n",
    "                \"tz\" : tz_data,\n",
    "                \"url\" : url_data,\n",
    "                \"detail\" : detail_data,\n",
    "                \"felt\" : felt_data,\n",
    "                \"cdi\" : cdi_data,\n",
    "                \"mmi\" : mmi_data,\n",
    "                \"alert\" : alert_data,\n",
    "                \"status\" : status_data,\n",
    "                \"tsunami\" : tsunami_data,\n",
    "                \"sig\" : sig_data,\n",
    "                \"net\" : net_data,\n",
    "                \"code\" : code_data,\n",
    "                \"ids\" : ids_data,\n",
    "                \"sources\" : sources_data,\n",
    "                \"types\" : types_data,\n",
    "                \"nst\" : nst_data,\n",
    "                \"dmin\" : dmin_data,\n",
    "                \"rms\" : rms_data,\n",
    "                \"gap\" : gap_data,\n",
    "                \"magType\" : magType_data,\n",
    "                \"type\" : type_data,\n",
    "                \"title\" : title_data,\n",
    "                \"geo_type\" : geo_type_data,\n",
    "                \"lng\" : lng_data,\n",
    "                \"lat\" : lat_data,\n",
    "                \"coordinates_3\" : coordinates_3_data,\n",
    "                \"city\" : city_data,\n",
    "                \n",
    "                \"converted_date\" : converted_date,\n",
    "                \"cd_by_month\" : cd_by_month,\n",
    "                \"cd_by_year\" : cd_by_year,\n",
    "                \"cd_for_plot\" : cd_for_plot,\n",
    "                \n",
    "                \"epoch_by_month\" : epoch_by_month,\n",
    "                \n",
    "               }\n",
    "\n",
    "seismic_data = pd.DataFrame(seismic_data)\n",
    "\n",
    "#first and last event\n",
    "year_range = seismic_data.iloc[0,2] + \" through \" + seismic_data.iloc[len(seismic_data)-1,2]\n"
   ]
  },
  {
   "cell_type": "code",
   "execution_count": 46,
   "metadata": {},
   "outputs": [],
   "source": [
    "seismic_data.to_csv(\"seismic_data.csv\")"
   ]
  },
  {
   "cell_type": "code",
   "execution_count": 47,
   "metadata": {},
   "outputs": [
    {
     "data": {
      "image/png": "[encoded data removed]",
      "text/plain": [
       "<matplotlib.figure.Figure at 0x1953d3772e8>"
      ]
     },
     "metadata": {},
     "output_type": "display_data"
    }
   ],
   "source": [
    "# Build a scatter plot for each data type\n",
    "plt.scatter(seismic_data[\"cd_by_year\"], seismic_data[\"mag\"], marker=\"o\")\n",
    "\n",
    "# Incorporate the other graph properties\n",
    "plt.title(\"Magnitude by Year\" + \" \" + year_range)\n",
    "plt.ylabel(\"Magnitude\")\n",
    "plt.xlabel(\"Years\")\n",
    "plt.grid(True)\n",
    "\n",
    "# Save the figure\n",
    "#plt.savefig(\"Magnitude by Month.png\")\n",
    "\n",
    "# Show plot\n",
    "plt.show()"
   ]
  },
  {
   "cell_type": "code",
   "execution_count": 48,
   "metadata": {},
   "outputs": [
    {
     "data": {
      "text/html": [
       "<div>\n",
       "<style>\n",
       "    .dataframe thead tr:only-child th {\n",
       "        text-align: right;\n",
       "    }\n",
       "\n",
       "    .dataframe thead th {\n",
       "        text-align: left;\n",
       "    }\n",
       "\n",
       "    .dataframe tbody tr th {\n",
       "        vertical-align: top;\n",
       "    }\n",
       "</style>\n",
       "<table border=\"1\" class=\"dataframe\">\n",
       "  <thead>\n",
       "    <tr style=\"text-align: right;\">\n",
       "      <th></th>\n",
       "      <th>cd_by_year</th>\n",
       "      <th>seismic_avg_year</th>\n",
       "      <th>seismic_count_year</th>\n",
       "    </tr>\n",
       "  </thead>\n",
       "  <tbody>\n",
       "    <tr>\n",
       "      <th>0</th>\n",
       "      <td>1906</td>\n",
       "      <td>7.050000</td>\n",
       "      <td>2</td>\n",
       "    </tr>\n",
       "    <tr>\n",
       "      <th>1</th>\n",
       "      <td>1915</td>\n",
       "      <td>6.500000</td>\n",
       "      <td>1</td>\n",
       "    </tr>\n",
       "    <tr>\n",
       "      <th>2</th>\n",
       "      <td>1918</td>\n",
       "      <td>6.766667</td>\n",
       "      <td>3</td>\n",
       "    </tr>\n",
       "    <tr>\n",
       "      <th>3</th>\n",
       "      <td>1922</td>\n",
       "      <td>6.400000</td>\n",
       "      <td>1</td>\n",
       "    </tr>\n",
       "    <tr>\n",
       "      <th>4</th>\n",
       "      <td>1923</td>\n",
       "      <td>6.500000</td>\n",
       "      <td>1</td>\n",
       "    </tr>\n",
       "  </tbody>\n",
       "</table>\n",
       "</div>"
      ],
      "text/plain": [
       "  cd_by_year  seismic_avg_year  seismic_count_year\n",
       "0       1906          7.050000                   2\n",
       "1       1915          6.500000                   1\n",
       "2       1918          6.766667                   3\n",
       "3       1922          6.400000                   1\n",
       "4       1923          6.500000                   1"
      ]
     },
     "execution_count": 48,
     "metadata": {},
     "output_type": "execute_result"
    }
   ],
   "source": [
    "seismic_avg_year = seismic_data.groupby([\"cd_by_year\"]).mean()[\"mag\"]\n",
    "seismic_count_year = seismic_data.groupby([\"cd_by_year\"]).count()[\"mag\"]\n",
    "\n",
    "\n",
    "# time.mktime(datetime.datetime.strptime(s, \"%d/%m/%Y\").timetuple())\n",
    "\n",
    "# unix_month_year = seismic_data.[\"cd_by_year\"]\n",
    "# unix_year\n",
    "\n",
    "seismic_data2_df = pd.DataFrame({\"seismic_avg_year\" : seismic_avg_year,\n",
    "                                \"seismic_count_year\" : seismic_count_year,\n",
    "                                })\n",
    "\n",
    "seismic_data2_df = seismic_data2_df.reset_index()\n",
    "\n",
    "seismic_data2_df.head()\n"
   ]
  },
  {
   "cell_type": "code",
   "execution_count": 49,
   "metadata": {},
   "outputs": [
    {
     "data": {
      "image/png": "[encoded data removed]",
      "text/plain": [
       "<matplotlib.figure.Figure at 0x1954cd83198>"
      ]
     },
     "metadata": {},
     "output_type": "display_data"
    }
   ],
   "source": [
    "# Build a scatter plot for each data type\n",
    "plt.scatter(seismic_data2_df[\"cd_by_year\"], seismic_data2_df[\"seismic_avg_year\"], marker=\"o\", c=[\"red\"])\n",
    "plt.scatter(seismic_data2_df[\"cd_by_year\"], seismic_data2_df[\"seismic_count_year\"]/2000, marker=\"o\", c=[\"blue\"])\n",
    "\n",
    "# Incorporate the other graph properties\n",
    "plt.title(\"Magnitude and Count by Year\" + \" \" + year_range)\n",
    "plt.ylabel(\"Average Magnitude/ Siesmic Activity/ 2000\")\n",
    "plt.xlabel(\"Years\")\n",
    "plt.grid(True)\n",
    "\n",
    "# Save the figure\n",
    "#plt.savefig(\"Magnitude and Count by Year.png\")\n",
    "\n",
    "plt.legend(bbox_to_anchor=(1.3, 1))\n",
    "\n",
    "# Show plot\n",
    "plt.show()"
   ]
  },
  {
   "cell_type": "code",
   "execution_count": 50,
   "metadata": {},
   "outputs": [
    {
     "data": {
      "text/html": [
       "<div>\n",
       "<style>\n",
       "    .dataframe thead tr:only-child th {\n",
       "        text-align: right;\n",
       "    }\n",
       "\n",
       "    .dataframe thead th {\n",
       "        text-align: left;\n",
       "    }\n",
       "\n",
       "    .dataframe tbody tr th {\n",
       "        vertical-align: top;\n",
       "    }\n",
       "</style>\n",
       "<table border=\"1\" class=\"dataframe\">\n",
       "  <thead>\n",
       "    <tr style=\"text-align: right;\">\n",
       "      <th></th>\n",
       "      <th>epoch_by_month</th>\n",
       "      <th>seismic_avg_month_year</th>\n",
       "      <th>seismic_count_month_year</th>\n",
       "    </tr>\n",
       "  </thead>\n",
       "  <tbody>\n",
       "    <tr>\n",
       "      <th>0</th>\n",
       "      <td>-1002067200</td>\n",
       "      <td>3.304848</td>\n",
       "      <td>33</td>\n",
       "    </tr>\n",
       "    <tr>\n",
       "      <th>1</th>\n",
       "      <td>-1004745600</td>\n",
       "      <td>3.174444</td>\n",
       "      <td>9</td>\n",
       "    </tr>\n",
       "    <tr>\n",
       "      <th>2</th>\n",
       "      <td>-1007164800</td>\n",
       "      <td>3.336364</td>\n",
       "      <td>11</td>\n",
       "    </tr>\n",
       "    <tr>\n",
       "      <th>3</th>\n",
       "      <td>-1009843200</td>\n",
       "      <td>2.995000</td>\n",
       "      <td>22</td>\n",
       "    </tr>\n",
       "    <tr>\n",
       "      <th>4</th>\n",
       "      <td>-1012521600</td>\n",
       "      <td>3.287143</td>\n",
       "      <td>21</td>\n",
       "    </tr>\n",
       "  </tbody>\n",
       "</table>\n",
       "</div>"
      ],
      "text/plain": [
       "  epoch_by_month  seismic_avg_month_year  seismic_count_month_year\n",
       "0    -1002067200                3.304848                        33\n",
       "1    -1004745600                3.174444                         9\n",
       "2    -1007164800                3.336364                        11\n",
       "3    -1009843200                2.995000                        22\n",
       "4    -1012521600                3.287143                        21"
      ]
     },
     "execution_count": 50,
     "metadata": {},
     "output_type": "execute_result"
    }
   ],
   "source": [
    "seismic_avg_month_year = seismic_data.groupby([\"epoch_by_month\"]).mean()[\"mag\"]\n",
    "seismic_count_month_year = seismic_data.groupby([\"epoch_by_month\"]).count()[\"mag\"]\n",
    "\n",
    "seismic_data3_df = pd.DataFrame({\"seismic_avg_month_year\" : seismic_avg_month_year,\n",
    "                                \"seismic_count_month_year\" : seismic_count_month_year,\n",
    "                                })\n",
    "\n",
    "seismic_data3_df = seismic_data3_df.reset_index()\n",
    "\n",
    "seismic_data3_df.head()"
   ]
  },
  {
   "cell_type": "code",
   "execution_count": null,
   "metadata": {},
   "outputs": [],
   "source": []
  },
  {
   "cell_type": "code",
   "execution_count": 51,
   "metadata": {},
   "outputs": [
    {
     "data": {
      "image/png": "[encoded data removed]",
      "text/plain": [
       "<matplotlib.figure.Figure at 0x19548917940>"
      ]
     },
     "metadata": {},
     "output_type": "display_data"
    }
   ],
   "source": [
    "x = (seismic_data3_df[\"epoch_by_month\"])\n",
    "\n",
    "y1 = seismic_data3_df[\"seismic_avg_month_year\"]\n",
    "y2 = seismic_data3_df[\"seismic_count_month_year\"]\n",
    "\n",
    "\n",
    "fig, ax1 = plt.subplots()\n",
    "ax2 = ax1.twinx()\n",
    "ax1.scatter(x, y1, c='r')\n",
    "ax2.scatter(x, y2, c='b')\n",
    "\n",
    "\n",
    "ax1.set_ylim(0, 8)\n",
    "\n",
    "# Incorporate the other graph properties\n",
    "plt.title(\"Magnitude and Count by Month/ Year\" + \" \" + year_range)\n",
    "ax1.set_ylabel(\"Average Magnitude\", color = \"r\")\n",
    "ax2.set_ylabel(\"Siesmic Activity Count\", color = \"b\")\n",
    "plt.xlabel(\"Years\")\n",
    "plt.grid(True)\n",
    "\n",
    "# Save the figure\n",
    "#plt.savefig(\"Magnitude and Count by Year.png\")\n",
    "\n",
    "\n",
    "# formatter = \n",
    "# plt.gcf().axes[0].xaxis.set_major_formatter(formatter)\n",
    "\n",
    "plt.show()"
   ]
  },
  {
   "cell_type": "code",
   "execution_count": null,
   "metadata": {},
   "outputs": [],
   "source": []
  },
  {
   "cell_type": "code",
   "execution_count": null,
   "metadata": {
    "collapsed": true
   },
   "outputs": [],
   "source": []
  },
  {
   "cell_type": "code",
   "execution_count": null,
   "metadata": {
    "collapsed": true
   },
   "outputs": [],
   "source": []
  },
  {
   "cell_type": "code",
   "execution_count": null,
   "metadata": {
    "collapsed": true
   },
   "outputs": [],
   "source": []
  },
  {
   "cell_type": "markdown",
   "metadata": {},
   "source": [
    "# TESTING FROM HERE DOWN"
   ]
  },
  {
   "cell_type": "code",
   "execution_count": 52,
   "metadata": {
    "collapsed": true
   },
   "outputs": [],
   "source": [
    "#\"cd_for_plot\", \"cd_by_month\""
   ]
  },
  {
   "cell_type": "code",
   "execution_count": 53,
   "metadata": {},
   "outputs": [
    {
     "data": {
      "text/html": [
       "<div>\n",
       "<style>\n",
       "    .dataframe thead tr:only-child th {\n",
       "        text-align: right;\n",
       "    }\n",
       "\n",
       "    .dataframe thead th {\n",
       "        text-align: left;\n",
       "    }\n",
       "\n",
       "    .dataframe tbody tr th {\n",
       "        vertical-align: top;\n",
       "    }\n",
       "</style>\n",
       "<table border=\"1\" class=\"dataframe\">\n",
       "  <thead>\n",
       "    <tr style=\"text-align: right;\">\n",
       "      <th></th>\n",
       "      <th>index</th>\n",
       "      <th>cd_for_plot</th>\n",
       "      <th>seismic_avg_month</th>\n",
       "      <th>seismic_count_month</th>\n",
       "    </tr>\n",
       "  </thead>\n",
       "  <tbody>\n",
       "    <tr>\n",
       "      <th>0</th>\n",
       "      <td>0</td>\n",
       "      <td>1906-04-18 13:12:27</td>\n",
       "      <td>7.7</td>\n",
       "      <td>7.7</td>\n",
       "    </tr>\n",
       "    <tr>\n",
       "      <th>1</th>\n",
       "      <td>1</td>\n",
       "      <td>1918-07-15 00:23:13</td>\n",
       "      <td>6.4</td>\n",
       "      <td>6.4</td>\n",
       "    </tr>\n",
       "    <tr>\n",
       "      <th>2</th>\n",
       "      <td>2</td>\n",
       "      <td>1918-05-23 11:57:40</td>\n",
       "      <td>6.8</td>\n",
       "      <td>6.8</td>\n",
       "    </tr>\n",
       "    <tr>\n",
       "      <th>3</th>\n",
       "      <td>3</td>\n",
       "      <td>1918-04-21 22:32:29</td>\n",
       "      <td>6.7</td>\n",
       "      <td>6.7</td>\n",
       "    </tr>\n",
       "    <tr>\n",
       "      <th>4</th>\n",
       "      <td>4</td>\n",
       "      <td>1915-10-03 06:53:21</td>\n",
       "      <td>6.8</td>\n",
       "      <td>6.8</td>\n",
       "    </tr>\n",
       "  </tbody>\n",
       "</table>\n",
       "</div>"
      ],
      "text/plain": [
       "   index         cd_for_plot  seismic_avg_month  seismic_count_month\n",
       "0      0 1906-04-18 13:12:27                7.7                  7.7\n",
       "1      1 1918-07-15 00:23:13                6.4                  6.4\n",
       "2      2 1918-05-23 11:57:40                6.8                  6.8\n",
       "3      3 1918-04-21 22:32:29                6.7                  6.7\n",
       "4      4 1915-10-03 06:53:21                6.8                  6.8"
      ]
     },
     "execution_count": 53,
     "metadata": {},
     "output_type": "execute_result"
    }
   ],
   "source": [
    "# seismic_avg_month = seismic_data.groupby([\"cd_for_plot\"]).mean()[\"mag\"]\n",
    "# seismic_count_month = seismic_data.groupby([\"cd_for_plot\"]).count()[\"mag\"]\n",
    "\n",
    "cd_for_plot \n",
    "seismic_avg_month = seismic_data[\"mag\"]\n",
    "seismic_count_month = seismic_data[\"mag\"]\n",
    "\n",
    "# time.mktime(datetime.datetime.strptime(s, \"%d/%m/%Y\").timetuple())\n",
    "\n",
    "# unix_month_year = seismic_data.[\"cd_by_year\"]\n",
    "# unix_year\n",
    "\n",
    "seismic_data4_df = pd.DataFrame({\"cd_for_plot\" : cd_for_plot,\n",
    "                                \"seismic_avg_month\" : seismic_avg_month,\n",
    "                                \"seismic_count_month\" : seismic_count_month,\n",
    "                                })\n",
    "\n",
    "seismic_data4_df = seismic_data4_df.reset_index()\n",
    "\n",
    "seismic_data4_df.head()"
   ]
  },
  {
   "cell_type": "code",
   "execution_count": 54,
   "metadata": {
    "collapsed": true
   },
   "outputs": [],
   "source": [
    "seismic_data4_df.to_csv(\"seismic_data4_df.csv\")"
   ]
  },
  {
   "cell_type": "code",
   "execution_count": 55,
   "metadata": {},
   "outputs": [
    {
     "ename": "KeyError",
     "evalue": "'[datetime.datetime(1906, 4, 18, 13, 12, 27)\\n datetime.datetime(1918, 7, 15, 0, 23, 13)\\n datetime.datetime(1918, 5, 23, 11, 57, 40) ...,\\n datetime.datetime(2015, 1, 1, 8, 35, 23, 800000)\\n datetime.datetime(2015, 1, 1, 4, 40, 19, 300000)\\n datetime.datetime(2015, 1, 1, 0, 26, 9, 600000)] not in index'",
     "output_type": "error",
     "traceback": [
      "\u001b[1;31m---------------------------------------------------------------------------\u001b[0m",
      "\u001b[1;31mKeyError\u001b[0m                                  Traceback (most recent call last)",
      "\u001b[1;32m<ipython-input-55-b798c53db574>\u001b[0m in \u001b[0;36m<module>\u001b[1;34m()\u001b[0m\n\u001b[0;32m     10\u001b[0m \u001b[1;33m\u001b[0m\u001b[0m\n\u001b[0;32m     11\u001b[0m \u001b[1;33m\u001b[0m\u001b[0m\n\u001b[1;32m---> 12\u001b[1;33m \u001b[0mx\u001b[0m \u001b[1;33m=\u001b[0m \u001b[0mseismic_data4_df\u001b[0m\u001b[1;33m[\u001b[0m\u001b[0mcd_for_plot\u001b[0m\u001b[1;33m]\u001b[0m\u001b[1;33m\u001b[0m\u001b[0m\n\u001b[0m\u001b[0;32m     13\u001b[0m \u001b[0mx\u001b[0m \u001b[1;33m=\u001b[0m \u001b[0mmdates\u001b[0m\u001b[1;33m.\u001b[0m\u001b[0mdate2num\u001b[0m\u001b[1;33m(\u001b[0m\u001b[0mx\u001b[0m\u001b[1;33m)\u001b[0m\u001b[1;33m\u001b[0m\u001b[0m\n\u001b[0;32m     14\u001b[0m \u001b[1;33m\u001b[0m\u001b[0m\n",
      "\u001b[1;32mC:\\Users\\Jon\\Anaconda3\\envs\\PythonData\\lib\\site-packages\\pandas\\core\\frame.py\u001b[0m in \u001b[0;36m__getitem__\u001b[1;34m(self, key)\u001b[0m\n\u001b[0;32m   2054\u001b[0m         \u001b[1;32mif\u001b[0m \u001b[0misinstance\u001b[0m\u001b[1;33m(\u001b[0m\u001b[0mkey\u001b[0m\u001b[1;33m,\u001b[0m \u001b[1;33m(\u001b[0m\u001b[0mSeries\u001b[0m\u001b[1;33m,\u001b[0m \u001b[0mnp\u001b[0m\u001b[1;33m.\u001b[0m\u001b[0mndarray\u001b[0m\u001b[1;33m,\u001b[0m \u001b[0mIndex\u001b[0m\u001b[1;33m,\u001b[0m \u001b[0mlist\u001b[0m\u001b[1;33m)\u001b[0m\u001b[1;33m)\u001b[0m\u001b[1;33m:\u001b[0m\u001b[1;33m\u001b[0m\u001b[0m\n\u001b[0;32m   2055\u001b[0m             \u001b[1;31m# either boolean or fancy integer index\u001b[0m\u001b[1;33m\u001b[0m\u001b[1;33m\u001b[0m\u001b[0m\n\u001b[1;32m-> 2056\u001b[1;33m             \u001b[1;32mreturn\u001b[0m \u001b[0mself\u001b[0m\u001b[1;33m.\u001b[0m\u001b[0m_getitem_array\u001b[0m\u001b[1;33m(\u001b[0m\u001b[0mkey\u001b[0m\u001b[1;33m)\u001b[0m\u001b[1;33m\u001b[0m\u001b[0m\n\u001b[0m\u001b[0;32m   2057\u001b[0m         \u001b[1;32melif\u001b[0m \u001b[0misinstance\u001b[0m\u001b[1;33m(\u001b[0m\u001b[0mkey\u001b[0m\u001b[1;33m,\u001b[0m \u001b[0mDataFrame\u001b[0m\u001b[1;33m)\u001b[0m\u001b[1;33m:\u001b[0m\u001b[1;33m\u001b[0m\u001b[0m\n\u001b[0;32m   2058\u001b[0m             \u001b[1;32mreturn\u001b[0m \u001b[0mself\u001b[0m\u001b[1;33m.\u001b[0m\u001b[0m_getitem_frame\u001b[0m\u001b[1;33m(\u001b[0m\u001b[0mkey\u001b[0m\u001b[1;33m)\u001b[0m\u001b[1;33m\u001b[0m\u001b[0m\n",
      "\u001b[1;32mC:\\Users\\Jon\\Anaconda3\\envs\\PythonData\\lib\\site-packages\\pandas\\core\\frame.py\u001b[0m in \u001b[0;36m_getitem_array\u001b[1;34m(self, key)\u001b[0m\n\u001b[0;32m   2098\u001b[0m             \u001b[1;32mreturn\u001b[0m \u001b[0mself\u001b[0m\u001b[1;33m.\u001b[0m\u001b[0mtake\u001b[0m\u001b[1;33m(\u001b[0m\u001b[0mindexer\u001b[0m\u001b[1;33m,\u001b[0m \u001b[0maxis\u001b[0m\u001b[1;33m=\u001b[0m\u001b[1;36m0\u001b[0m\u001b[1;33m,\u001b[0m \u001b[0mconvert\u001b[0m\u001b[1;33m=\u001b[0m\u001b[1;32mFalse\u001b[0m\u001b[1;33m)\u001b[0m\u001b[1;33m\u001b[0m\u001b[0m\n\u001b[0;32m   2099\u001b[0m         \u001b[1;32melse\u001b[0m\u001b[1;33m:\u001b[0m\u001b[1;33m\u001b[0m\u001b[0m\n\u001b[1;32m-> 2100\u001b[1;33m             \u001b[0mindexer\u001b[0m \u001b[1;33m=\u001b[0m \u001b[0mself\u001b[0m\u001b[1;33m.\u001b[0m\u001b[0mloc\u001b[0m\u001b[1;33m.\u001b[0m\u001b[0m_convert_to_indexer\u001b[0m\u001b[1;33m(\u001b[0m\u001b[0mkey\u001b[0m\u001b[1;33m,\u001b[0m \u001b[0maxis\u001b[0m\u001b[1;33m=\u001b[0m\u001b[1;36m1\u001b[0m\u001b[1;33m)\u001b[0m\u001b[1;33m\u001b[0m\u001b[0m\n\u001b[0m\u001b[0;32m   2101\u001b[0m             \u001b[1;32mreturn\u001b[0m \u001b[0mself\u001b[0m\u001b[1;33m.\u001b[0m\u001b[0mtake\u001b[0m\u001b[1;33m(\u001b[0m\u001b[0mindexer\u001b[0m\u001b[1;33m,\u001b[0m \u001b[0maxis\u001b[0m\u001b[1;33m=\u001b[0m\u001b[1;36m1\u001b[0m\u001b[1;33m,\u001b[0m \u001b[0mconvert\u001b[0m\u001b[1;33m=\u001b[0m\u001b[1;32mTrue\u001b[0m\u001b[1;33m)\u001b[0m\u001b[1;33m\u001b[0m\u001b[0m\n\u001b[0;32m   2102\u001b[0m \u001b[1;33m\u001b[0m\u001b[0m\n",
      "\u001b[1;32mC:\\Users\\Jon\\Anaconda3\\envs\\PythonData\\lib\\site-packages\\pandas\\core\\indexing.py\u001b[0m in \u001b[0;36m_convert_to_indexer\u001b[1;34m(self, obj, axis, is_setter)\u001b[0m\n\u001b[0;32m   1229\u001b[0m                 \u001b[0mmask\u001b[0m \u001b[1;33m=\u001b[0m \u001b[0mcheck\u001b[0m \u001b[1;33m==\u001b[0m \u001b[1;33m-\u001b[0m\u001b[1;36m1\u001b[0m\u001b[1;33m\u001b[0m\u001b[0m\n\u001b[0;32m   1230\u001b[0m                 \u001b[1;32mif\u001b[0m \u001b[0mmask\u001b[0m\u001b[1;33m.\u001b[0m\u001b[0many\u001b[0m\u001b[1;33m(\u001b[0m\u001b[1;33m)\u001b[0m\u001b[1;33m:\u001b[0m\u001b[1;33m\u001b[0m\u001b[0m\n\u001b[1;32m-> 1231\u001b[1;33m                     \u001b[1;32mraise\u001b[0m \u001b[0mKeyError\u001b[0m\u001b[1;33m(\u001b[0m\u001b[1;34m'%s not in index'\u001b[0m \u001b[1;33m%\u001b[0m \u001b[0mobjarr\u001b[0m\u001b[1;33m[\u001b[0m\u001b[0mmask\u001b[0m\u001b[1;33m]\u001b[0m\u001b[1;33m)\u001b[0m\u001b[1;33m\u001b[0m\u001b[0m\n\u001b[0m\u001b[0;32m   1232\u001b[0m \u001b[1;33m\u001b[0m\u001b[0m\n\u001b[0;32m   1233\u001b[0m                 \u001b[1;32mreturn\u001b[0m \u001b[0m_values_from_object\u001b[0m\u001b[1;33m(\u001b[0m\u001b[0mindexer\u001b[0m\u001b[1;33m)\u001b[0m\u001b[1;33m\u001b[0m\u001b[0m\n",
      "\u001b[1;31mKeyError\u001b[0m: '[datetime.datetime(1906, 4, 18, 13, 12, 27)\\n datetime.datetime(1918, 7, 15, 0, 23, 13)\\n datetime.datetime(1918, 5, 23, 11, 57, 40) ...,\\n datetime.datetime(2015, 1, 1, 8, 35, 23, 800000)\\n datetime.datetime(2015, 1, 1, 4, 40, 19, 300000)\\n datetime.datetime(2015, 1, 1, 0, 26, 9, 600000)] not in index'"
     ]
    }
   ],
   "source": [
    "#===========================================================================================================================\n",
    "#===========================================================================================================================\n",
    "#===========================================================================================================================\n",
    "\n",
    "\n",
    "# x = (seismic_data4_df[\"cd_for_plot\"])\n",
    "\n",
    "y1 = seismic_data4_df[\"seismic_avg_month\"]\n",
    "y2 = seismic_data4_df[\"seismic_count_month\"]\n",
    "\n",
    "\n",
    "x = seismic_data4_df[cd_for_plot]\n",
    "x = mdates.date2num(x)\n",
    "\n",
    "#plt.subplots_adjust(bottom=0.2)\n",
    "\n",
    "\n",
    "plt.xticks( rotation=25 )\n",
    "#ax=plt.gca()\n",
    "\n",
    "\n",
    "# xfmt = mdates.DateFormatter('%m-%Y')\n",
    "# ax.xaxis.set_major_formatter(xfmt)\n",
    "\n",
    "#x = mdates.DateFormatter(\"cd_for_plot\",'%Y-%m-%d %H:%M:%S')\n",
    "#ax.xaxis.set_major_formatter(xfmt)\n",
    "\n",
    "fig, ax1 = plt.subplots()\n",
    "ax2 = ax1.twinx()\n",
    "\n",
    "plt.plot(x, y1)\n",
    "plt.plot(x, y2)\n",
    "plt.show()"
   ]
  },
  {
   "cell_type": "code",
   "execution_count": null,
   "metadata": {
    "collapsed": true
   },
   "outputs": [],
   "source": []
  },
  {
   "cell_type": "code",
   "execution_count": null,
   "metadata": {},
   "outputs": [],
   "source": [
    "cd_for_plot"
   ]
  },
  {
   "cell_type": "code",
   "execution_count": null,
   "metadata": {},
   "outputs": [],
   "source": [
    "x = (seismic_data4_df[\"cd_for_plot\"])\n",
    "\n",
    "y1 = seismic_data4_df[\"seismic_avg_year\"]\n",
    "y2 = seismic_data4_df[\"seismic_count_year\"]\n",
    "\n",
    "\n",
    "fig, ax1 = plt.subplots()\n",
    "ax2 = ax1.twinx()\n",
    "ax1.scatter(x, y1, c='r')\n",
    "ax2.scatter(x, y2, c='b')\n",
    "\n",
    "# Incorporate the other graph properties\n",
    "plt.title(\"Magnitude and Count by Month/ Year\" + \" \" + year_range)\n",
    "ax1.set_ylabel(\"Average Magnitude\", color = \"r\")\n",
    "ax2.set_ylabel(\"Siesmic Activity Count\", color = \"b\")\n",
    "plt.xlabel(\"Years\")\n",
    "plt.grid(True)\n",
    "\n",
    "# Save the figure\n",
    "#plt.savefig(\"Magnitude and Count by Year.png\")\n",
    "\n",
    "\n",
    "# formatter = \n",
    "# plt.gcf().axes[0].xaxis.set_major_formatter(formatter)\n",
    "\n",
    "plt.show()"
   ]
  },
  {
   "cell_type": "code",
   "execution_count": null,
   "metadata": {},
   "outputs": [],
   "source": [
    "\n",
    "#+ Generate some random data.\n",
    "x = (seismic_data4_df[\"cd_for_plot\"])\n",
    "\n",
    "y1 = seismic_data4_df[\"seismic_avg_year\"]\n",
    "y2 = seismic_data4_df[\"seismic_count_year\"]\n",
    "\n",
    "\n",
    "fig, ax1 = plt.subplots()\n",
    "ax2 = ax1.twinx()\n",
    "ax1.scatter(x, y1, c='r')\n",
    "ax2.scatter(x, y2, c='b')\n",
    "\n",
    "# Convert to the correct format for matplotlib.\n",
    "# mdate.epoch2num converts epoch timestamps to the right format for matplotlib\n",
    "secs = mdate.epoch2num(x.values)\n",
    "\n",
    "\n",
    "fig, ax = plt.subplots()\n",
    "\n",
    "# Plot the date using plot_date rather than plot\n",
    "ax.plot_date(secs, vals)\n",
    "\n",
    "# Choose your xtick format string\n",
    "date_fmt = '%m-%Y'\n",
    "\n",
    "# Use a DateFormatter to set the data to the correct format.\n",
    "date_formatter = mdate.DateFormatter(date_fmt)\n",
    "ax.xaxis.set_major_formatter(date_formatter)\n",
    "\n",
    "# Sets the tick labels diagonal so they fit easier.\n",
    "fig.autofmt_xdate()\n",
    "\n",
    "plt.show()\n"
   ]
  },
  {
   "cell_type": "code",
   "execution_count": null,
   "metadata": {},
   "outputs": [],
   "source": []
  },
  {
   "cell_type": "code",
   "execution_count": null,
   "metadata": {},
   "outputs": [],
   "source": []
  },
  {
   "cell_type": "code",
   "execution_count": null,
   "metadata": {},
   "outputs": [],
   "source": [
    "# Generate some random data.\n",
    "N = 40\n",
    "now = 1398432160\n",
    "raw = np.array([now + i*1000 for i in range(N)])\n",
    "vals = np.sin(np.linspace(0,10,N))\n",
    "\n",
    "# Convert to the correct format for matplotlib.\n",
    "# mdate.epoch2num converts epoch timestamps to the right format for matplotlib\n",
    "secs = mdates.epoch2num(raw)\n",
    "\n",
    "\n",
    "fig, ax = plt.subplots()\n",
    "\n",
    "# Plot the date using plot_date rather than plot\n",
    "ax.plot_date(secs, vals)\n",
    "\n",
    "# Choose your xtick format string\n",
    "date_fmt = '%m-%Y'\n",
    "\n",
    "# Use a DateFormatter to set the data to the correct format.\n",
    "date_formatter = mdates.DateFormatter(date_fmt)\n",
    "ax.xaxis.set_major_formatter(date_formatter)\n",
    "\n",
    "# Sets the tick labels diagonal so they fit easier.\n",
    "fig.autofmt_xdate()\n",
    "\n",
    "plt.show()"
   ]
  },
  {
   "cell_type": "code",
   "execution_count": null,
   "metadata": {},
   "outputs": [],
   "source": [
    "x = (seismic_data4_df[\"cd_for_plot\"])\n",
    "\n",
    "y1 = seismic_data4_df[\"seismic_avg_month\"]\n",
    "y2 = seismic_data4_df[\"seismic_count_month\"]\n",
    "\n",
    "fig, ax1 = plt.subplots()\n",
    "ax2 = ax1.twinx()\n",
    "\n",
    "#===================================================================================\n",
    "\n",
    "# timestamps = x.astype(int).values\n",
    "\n",
    "\n",
    "# dates = [dt.datetime.fromtimestamp(ts) for ts in timestamps]\n",
    "\n",
    "\n",
    "# datenums=md.date2num(dates)\n",
    "\n",
    "#===================================================================================\n",
    "\n",
    "\n",
    "plt.xticks( rotation=25 ) # keep\n",
    "\n",
    "ax=plt.gca()\n",
    "\n",
    "\n",
    "xfmt = x.DateFormatter('%m-%Y')\n",
    "ax.xaxis.set_major_formatter(xfmt)\n",
    "\n",
    "ax1.scatter(x, y1, c='r')\n",
    "ax2.scatter(x, y2, c='b')\n",
    "\n",
    "\n",
    "plt.show()"
   ]
  },
  {
   "cell_type": "code",
   "execution_count": null,
   "metadata": {},
   "outputs": [],
   "source": []
  },
  {
   "cell_type": "code",
   "execution_count": null,
   "metadata": {
    "collapsed": true
   },
   "outputs": [],
   "source": []
  },
  {
   "cell_type": "code",
   "execution_count": null,
   "metadata": {},
   "outputs": [],
   "source": []
  },
  {
   "cell_type": "code",
   "execution_count": null,
   "metadata": {},
   "outputs": [],
   "source": [
    "n=4\n",
    "duration=10\n",
    "now=time.mktime(time.localtime())\n",
    "timestamps=np.linspace(now,now+duration,n)\n",
    "\n",
    "dates=[datetime.datetime(x)]\n",
    "datenums=md.date2num(dates)\n",
    "\n",
    "values=np.sin((timestamps-now)/duration*2*np.pi)\n",
    "plt.subplots_adjust(bottom=0.2)\n",
    "plt.xticks( rotation=25 )\n",
    "ax=plt.gca()\n",
    "xfmt = md.DateFormatter('%Y-%m-%d %H:%M:%S')\n",
    "ax.xaxis.set_major_formatter(xfmt)\n",
    "plt.plot(datenums,values)\n",
    "plt.show()"
   ]
  },
  {
   "cell_type": "code",
   "execution_count": null,
   "metadata": {
    "collapsed": true
   },
   "outputs": [],
   "source": []
  },
  {
   "cell_type": "code",
   "execution_count": null,
   "metadata": {
    "collapsed": true
   },
   "outputs": [],
   "source": []
  },
  {
   "cell_type": "code",
   "execution_count": null,
   "metadata": {
    "collapsed": true
   },
   "outputs": [],
   "source": []
  },
  {
   "cell_type": "code",
   "execution_count": null,
   "metadata": {},
   "outputs": [],
   "source": [
    "# seismic_avg_month = seismic_data.groupby([\"cd_for_plot\"]).mean()[\"mag\"]\n",
    "# seismic_count_month = seismic_data.groupby([\"cd_for_plot\"]).count()[\"mag\"]\n",
    "\n",
    "cd_for_plot \n",
    "seismic_activity = seismic_data[\"mag\"]\n",
    "\n",
    "# time.mktime(datetime.datetime.strptime(s, \"%d/%m/%Y\").timetuple())\n",
    "\n",
    "# unix_month_year = seismic_data.[\"cd_by_year\"]\n",
    "# unix_year\n",
    "\n",
    "seismic_data5_df = pd.DataFrame({\"cd_for_plot\" : cd_for_plot,\n",
    "                                \"seismic_activity\" : seismic_activity,\n",
    "                                 })\n",
    "\n",
    "#seismic_data5_df = seismic_data5_df.reset_index()\n",
    "\n",
    "seismic_data5_df.head()"
   ]
  },
  {
   "cell_type": "code",
   "execution_count": null,
   "metadata": {},
   "outputs": [],
   "source": [
    "import datetime\n",
    "import random\n",
    "import matplotlib.pyplot as plt\n",
    "\n",
    "# make up some data\n",
    "x = [datetime.datetime.now() + datetime.timedelta(hours=i) for i in range(12)]\n",
    "y = [i+random.gauss(0,1) for i,_ in enumerate(x)]\n",
    "\n",
    "# plot\n",
    "plt.plot(x,y)\n",
    "# beautify the x-labels\n",
    "plt.gcf().autofmt_xdate()\n",
    "\n",
    "plt.show()"
   ]
  },
  {
   "cell_type": "code",
   "execution_count": null,
   "metadata": {},
   "outputs": [],
   "source": [
    "y1 = seismic_data4_df[\"seismic_avg_month\"]\n",
    "\n",
    "\n",
    "\n",
    "x = seismic_data4_df[cd_for_plot]\n",
    "x = mdates.date2num(x)\n",
    "\n",
    "#plt.subplots_adjust(bottom=0.2)\n",
    "\n",
    "\n",
    "plt.xticks( rotation=25 )"
   ]
  },
  {
   "cell_type": "code",
   "execution_count": null,
   "metadata": {},
   "outputs": [],
   "source": [
    "cd_for_plot\n",
    "\n",
    "dt.datetime.fromtimestamp(x)"
   ]
  },
  {
   "cell_type": "code",
   "execution_count": null,
   "metadata": {},
   "outputs": [],
   "source": [
    "plt.scatter(seismic_data[\"epoch_by_month\"], seismic_data[\"mag\"])\n",
    "plt.show()"
   ]
  },
  {
   "cell_type": "code",
   "execution_count": null,
   "metadata": {},
   "outputs": [],
   "source": [
    "import datetime as dt\n",
    "import matplotlib.pyplot as plt\n",
    "import matplotlib.dates as mdates\n",
    "\n",
    "x = [datetime.datetime(1970, 4, 18)]\n",
    "y = seismic_data[\"mag\"]\n",
    "\n",
    "fig, ax = plt.subplots()\n",
    "ax.plot_date(x, y, linestyle='--')\n",
    "\n",
    "ax.annotate('Test', (mdates.date2num(x[1]), y[1]), xytext=(15, 15), \n",
    "            textcoords='offset points', arrowprops=dict(arrowstyle='-|>'))\n",
    "\n",
    "fig.autofmt_xdate()\n",
    "plt.show()"
   ]
  },
  {
   "cell_type": "code",
   "execution_count": null,
   "metadata": {},
   "outputs": [],
   "source": [
    "seismic_data[\"mag\"]"
   ]
  },
  {
   "cell_type": "code",
   "execution_count": null,
   "metadata": {},
   "outputs": [],
   "source": [
    "cd_for_plot"
   ]
  },
  {
   "cell_type": "code",
   "execution_count": null,
   "metadata": {},
   "outputs": [],
   "source": [
    "seismic_data[\"cd_by_month\"]"
   ]
  },
  {
   "cell_type": "code",
   "execution_count": null,
   "metadata": {},
   "outputs": [],
   "source": [
    "mdates.num2date(2011910)"
   ]
  },
  {
   "cell_type": "code",
   "execution_count": null,
   "metadata": {},
   "outputs": [],
   "source": [
    "Search"
   ]
  },
  {
   "cell_type": "code",
   "execution_count": null,
   "metadata": {},
   "outputs": [],
   "source": [
    "citipy.nearest_city(lat_data[1], lng_data[1]).city_name"
   ]
  },
  {
   "cell_type": "code",
   "execution_count": null,
   "metadata": {
    "collapsed": true
   },
   "outputs": [],
   "source": []
  }
 ],
 "metadata": {
  "kernelspec": {
   "display_name": "Python [conda env:PythonData]",
   "language": "python",
   "name": "conda-env-PythonData-py"
  },
  "language_info": {
   "codemirror_mode": {
    "name": "ipython",
    "version": 3
   },
   "file_extension": ".py",
   "mimetype": "text/x-python",
   "name": "python",
   "nbconvert_exporter": "python",
   "pygments_lexer": "ipython3",
   "version": "3.6.1"
  }
 },
 "nbformat": 4,
 "nbformat_minor": 2
}
