{
 "cells": [
  {
   "cell_type": "code",
   "execution_count": 1,
   "metadata": {
    "collapsed": true
   },
   "outputs": [],
   "source": [
    "import seaborn\n",
    "import pandas as pd\n",
    "import numpy as np\n",
    "import requests as req\n",
    "import json\n",
    "import matplotlib.pyplot as plt\n",
    "import csv\n",
    "import os\n",
    "import time\n",
    "import datetime\n",
    "import scipy as stats\n",
    "import arrow\n",
    "from citipy import citipy"
   ]
  },
  {
   "cell_type": "code",
   "execution_count": 2,
   "metadata": {
    "collapsed": true
   },
   "outputs": [],
   "source": [
    "# Lists for holding Us Geological Survey (USGS) json data\n",
    "mag_data = []\n",
    "place_data = []\n",
    "time_data = []\n",
    "updated_data = []\n",
    "tz_data = []\n",
    "url_data = []\n",
    "detail_data = []\n",
    "felt_data = []\n",
    "cdi_data = []\n",
    "mmi_data = []\n",
    "alert_data = []\n",
    "status_data = []\n",
    "tsunami_data = []\n",
    "sig_data = []\n",
    "net_data = []\n",
    "code_data = []\n",
    "ids_data = []\n",
    "sources_data = []\n",
    "types_data = []\n",
    "nst_data = []\n",
    "dmin_data = []\n",
    "rms_data = []\n",
    "gap_data = []\n",
    "magType_data = []\n",
    "type_data = []\n",
    "title_data = []\n",
    "geo_type_data = []\n",
    "lng_data = []\n",
    "lat_data = []\n",
    "coordinates_3_data = []\n",
    "\n",
    "#calculated lists\n",
    "converted_date = []\n",
    "cd_by_month = []\n",
    "cd_by_year = []\n",
    "\n",
    "epoch_by_month = []"
   ]
  },
  {
   "cell_type": "code",
   "execution_count": 3,
   "metadata": {
    "collapsed": true
   },
   "outputs": [],
   "source": [
    "#https://earthquake.usgs.gov/fdsnws/event/1/query.geojson?starttime=2017-07-14%2000:00:00&endtime=2017-09-21%2023:59:59&maxlatitude=50&minlatitude=24.6&maxlongitude=-65&minlongitude=-125&minmagnitude=2.5&orderby=time\n",
    "\n",
    "years = 5\n",
    "start = 1900\n",
    "end = 2020\n",
    "start_loop = start\n",
    "\n",
    "json_returns = ((end-start)/years)+1\n",
    "\n",
    "\n",
    "\n",
    "for x in range(int(json_returns)):\n",
    "\n",
    "    url_bit_1 = \"https://earthquake.usgs.gov/fdsnws/event/1/query.geojson?starttime=\"\n",
    "    year_from_1 = str(start_loop)\n",
    "    year_from_2= \"-01-01\"\n",
    "    year_to = str(int(year_from_1) + years)\n",
    "    url_bit_2= \"-01-01%0000:00:00&maxlatitude=50&minlatitude=24.6&maxlongitude=-65&minlongitude=-125&minmagnitude=2.5&orderby=time\"\n",
    "\n",
    "    # Build partial query URL\n",
    "    Search = url_bit_1 + year_from_1 + year_from_2  + \"%0000:00:01&endtime=\" + year_to + url_bit_2\n",
    "    #Search\n",
    "\n",
    "    # set response variable\n",
    "    response = req.get(Search).json()\n",
    "\n",
    "    # idetify how many seismic events are in our json\n",
    "    usgs_json_data = json.dumps(response)\n",
    "\n",
    "    item_dict = json.loads(usgs_json_data)\n",
    "\n",
    "    json_loops = len(item_dict['features'])\n",
    "\n",
    "    #append usgs_json_data into list form\n",
    "\n",
    "    json_counter = 0\n",
    "\n",
    "    for x in range(json_loops):\n",
    "\n",
    "        mag_data.append(response[\"features\"][json_counter][\"properties\"][\"mag\"])\n",
    "        place_data.append(response[\"features\"][json_counter][\"properties\"][\"place\"])\n",
    "        time_data.append(response[\"features\"][json_counter][\"properties\"][\"time\"])\n",
    "        updated_data.append(response[\"features\"][json_counter][\"properties\"][\"updated\"])\n",
    "        tz_data.append(response[\"features\"][json_counter][\"properties\"][\"tz\"])\n",
    "        url_data.append(response[\"features\"][json_counter][\"properties\"][\"url\"])\n",
    "        detail_data.append(response[\"features\"][json_counter][\"properties\"][\"detail\"])\n",
    "        felt_data.append(response[\"features\"][json_counter][\"properties\"][\"felt\"])\n",
    "        cdi_data.append(response[\"features\"][json_counter][\"properties\"][\"cdi\"])\n",
    "        mmi_data.append(response[\"features\"][json_counter][\"properties\"][\"mmi\"])\n",
    "        alert_data.append(response[\"features\"][json_counter][\"properties\"][\"alert\"])\n",
    "        status_data.append(response[\"features\"][json_counter][\"properties\"][\"status\"])\n",
    "        tsunami_data.append(response[\"features\"][json_counter][\"properties\"][\"tsunami\"])\n",
    "        sig_data.append(response[\"features\"][json_counter][\"properties\"][\"sig\"])\n",
    "        net_data.append(response[\"features\"][json_counter][\"properties\"][\"net\"])\n",
    "        code_data.append(response[\"features\"][json_counter][\"properties\"][\"code\"])\n",
    "        ids_data.append(response[\"features\"][json_counter][\"properties\"][\"ids\"])\n",
    "        sources_data.append(response[\"features\"][json_counter][\"properties\"][\"sources\"])\n",
    "        types_data.append(response[\"features\"][json_counter][\"properties\"][\"types\"])\n",
    "        nst_data.append(response[\"features\"][json_counter][\"properties\"][\"nst\"])\n",
    "        dmin_data.append(response[\"features\"][json_counter][\"properties\"][\"dmin\"])\n",
    "        rms_data.append(response[\"features\"][json_counter][\"properties\"][\"rms\"])\n",
    "        gap_data.append(response[\"features\"][json_counter][\"properties\"][\"gap\"])\n",
    "        magType_data.append(response[\"features\"][json_counter][\"properties\"][\"magType\"])\n",
    "        type_data.append(response[\"features\"][json_counter][\"properties\"][\"type\"])\n",
    "        title_data.append(response[\"features\"][json_counter][\"properties\"][\"title\"])\n",
    "        geo_type_data.append(response[\"features\"][json_counter][\"geometry\"][\"type\"])\n",
    "        lng_data.append(response[\"features\"][json_counter][\"geometry\"][\"coordinates\"][0])\n",
    "        lat_data.append(response[\"features\"][json_counter][\"geometry\"][\"coordinates\"][1])\n",
    "        coordinates_3_data.append(response[\"features\"][json_counter][\"geometry\"][\"coordinates\"][2])\n",
    "\n",
    "        \n",
    "        \n",
    "        # calculated fields\n",
    "        \n",
    "        converted_date.append((datetime.datetime(1970, 1, 1) + datetime.timedelta(milliseconds=time_data[len(converted_date)-1])).strftime('%m-%d-%Y'))\n",
    "        cd_by_month.append((datetime.datetime(1970, 1, 1) + datetime.timedelta(milliseconds=time_data[len(cd_by_month)-1])).strftime('%m-%Y'))\n",
    "        cd_by_year.append((datetime.datetime(1970, 1, 1) + datetime.timedelta(milliseconds=time_data[len(cd_by_year)-1])).strftime('%Y'))\n",
    "\n",
    "        epoch_by_month.append(arrow.get(cd_by_month[len(cd_by_month)-1], 'MM-YYYY').format('X'))\n",
    "        \n",
    "               \n",
    "        json_counter = json_counter + 1    \n",
    "        \n",
    "    start_loop = year_to     "
   ]
  },
  {
   "cell_type": "code",
   "execution_count": 4,
   "metadata": {
    "collapsed": true
   },
   "outputs": [],
   "source": [
    "seismic_data = {\"mag\" : mag_data,\n",
    "                \"place\" : place_data,\n",
    "                \"time\" : time_data,\n",
    "                \"updated\" : updated_data,\n",
    "                \"tz\" : tz_data,\n",
    "                \"url\" : url_data,\n",
    "                \"detail\" : detail_data,\n",
    "                \"felt\" : felt_data,\n",
    "                \"cdi\" : cdi_data,\n",
    "                \"mmi\" : mmi_data,\n",
    "                \"alert\" : alert_data,\n",
    "                \"status\" : status_data,\n",
    "                \"tsunami\" : tsunami_data,\n",
    "                \"sig\" : sig_data,\n",
    "                \"net\" : net_data,\n",
    "                \"code\" : code_data,\n",
    "                \"ids\" : ids_data,\n",
    "                \"sources\" : sources_data,\n",
    "                \"types\" : types_data,\n",
    "                \"nst\" : nst_data,\n",
    "                \"dmin\" : dmin_data,\n",
    "                \"rms\" : rms_data,\n",
    "                \"gap\" : gap_data,\n",
    "                \"magType\" : magType_data,\n",
    "                \"type\" : type_data,\n",
    "                \"title\" : title_data,\n",
    "                \"geo_type\" : geo_type_data,\n",
    "                \"lng\" : lng_data,\n",
    "                \"lat\" : lat_data,\n",
    "                \"coordinates_3\" : coordinates_3_data,\n",
    "\n",
    "                \"converted_date\" : converted_date,\n",
    "                \"cd_by_month\" : cd_by_month,\n",
    "                \"cd_by_year\" : cd_by_year,\n",
    "                \n",
    "                \"epoch_by_month\" : epoch_by_month,\n",
    "                \n",
    "               }\n",
    "\n",
    "seismic_data = pd.DataFrame(seismic_data)\n",
    "\n",
    "#first and last event\n",
    "year_range = seismic_data.iloc[0,2] + \" through \" + seismic_data.iloc[len(seismic_data)-1,2]\n"
   ]
  },
  {
   "cell_type": "code",
   "execution_count": 5,
   "metadata": {
    "collapsed": true
   },
   "outputs": [],
   "source": [
    "seismic_data.to_csv(\"seismic_data.csv\")"
   ]
  },
  {
   "cell_type": "code",
   "execution_count": 6,
   "metadata": {},
   "outputs": [
    {
     "data": {
      "image/png": "[encoded data removed]",
      "text/plain": [
       "<matplotlib.figure.Figure at 0x1d19f2a95f8>"
      ]
     },
     "metadata": {},
     "output_type": "display_data"
    }
   ],
   "source": [
    "# Build a scatter plot for each data type\n",
    "plt.scatter(seismic_data[\"cd_by_year\"], seismic_data[\"mag\"], marker=\"o\")\n",
    "\n",
    "# Incorporate the other graph properties\n",
    "plt.title(\"Magnitude by Year\" + \" \" + year_range)\n",
    "plt.ylabel(\"Magnitude\")\n",
    "plt.xlabel(\"Years\")\n",
    "plt.grid(True)\n",
    "\n",
    "# Save the figure\n",
    "#plt.savefig(\"Magnitude by Month.png\")\n",
    "\n",
    "# Show plot\n",
    "plt.show()"
   ]
  },
  {
   "cell_type": "code",
   "execution_count": 7,
   "metadata": {},
   "outputs": [
    {
     "data": {
      "text/html": [
       "<div>\n",
       "<style>\n",
       "    .dataframe thead tr:only-child th {\n",
       "        text-align: right;\n",
       "    }\n",
       "\n",
       "    .dataframe thead th {\n",
       "        text-align: left;\n",
       "    }\n",
       "\n",
       "    .dataframe tbody tr th {\n",
       "        vertical-align: top;\n",
       "    }\n",
       "</style>\n",
       "<table border=\"1\" class=\"dataframe\">\n",
       "  <thead>\n",
       "    <tr style=\"text-align: right;\">\n",
       "      <th></th>\n",
       "      <th>cd_by_year</th>\n",
       "      <th>seismic_avg_year</th>\n",
       "      <th>seismic_count_year</th>\n",
       "    </tr>\n",
       "  </thead>\n",
       "  <tbody>\n",
       "    <tr>\n",
       "      <th>0</th>\n",
       "      <td>1906</td>\n",
       "      <td>7.050000</td>\n",
       "      <td>2</td>\n",
       "    </tr>\n",
       "    <tr>\n",
       "      <th>1</th>\n",
       "      <td>1915</td>\n",
       "      <td>6.500000</td>\n",
       "      <td>1</td>\n",
       "    </tr>\n",
       "    <tr>\n",
       "      <th>2</th>\n",
       "      <td>1918</td>\n",
       "      <td>6.766667</td>\n",
       "      <td>3</td>\n",
       "    </tr>\n",
       "    <tr>\n",
       "      <th>3</th>\n",
       "      <td>1922</td>\n",
       "      <td>6.400000</td>\n",
       "      <td>1</td>\n",
       "    </tr>\n",
       "    <tr>\n",
       "      <th>4</th>\n",
       "      <td>1923</td>\n",
       "      <td>6.500000</td>\n",
       "      <td>1</td>\n",
       "    </tr>\n",
       "  </tbody>\n",
       "</table>\n",
       "</div>"
      ],
      "text/plain": [
       "  cd_by_year  seismic_avg_year  seismic_count_year\n",
       "0       1906          7.050000                   2\n",
       "1       1915          6.500000                   1\n",
       "2       1918          6.766667                   3\n",
       "3       1922          6.400000                   1\n",
       "4       1923          6.500000                   1"
      ]
     },
     "execution_count": 7,
     "metadata": {},
     "output_type": "execute_result"
    }
   ],
   "source": [
    "seismic_avg_year = seismic_data.groupby([\"cd_by_year\"]).mean()[\"mag\"]\n",
    "seismic_count_year = seismic_data.groupby([\"cd_by_year\"]).count()[\"mag\"]\n",
    "\n",
    "\n",
    "# time.mktime(datetime.datetime.strptime(s, \"%d/%m/%Y\").timetuple())\n",
    "\n",
    "# unix_month_year = seismic_data.[\"cd_by_year\"]\n",
    "# unix_year\n",
    "\n",
    "seismic_data2_df = pd.DataFrame({\"seismic_avg_year\" : seismic_avg_year,\n",
    "                                \"seismic_count_year\" : seismic_count_year,\n",
    "                                })\n",
    "\n",
    "seismic_data2_df = seismic_data2_df.reset_index()\n",
    "\n",
    "seismic_data2_df.head()\n"
   ]
  },
  {
   "cell_type": "code",
   "execution_count": 8,
   "metadata": {},
   "outputs": [
    {
     "data": {
      "image/png": "[encoded data removed]",
      "text/plain": [
       "<matplotlib.figure.Figure at 0x1d1a7b36160>"
      ]
     },
     "metadata": {},
     "output_type": "display_data"
    }
   ],
   "source": [
    "# Build a scatter plot for each data type\n",
    "plt.scatter(seismic_data2_df[\"cd_by_year\"], seismic_data2_df[\"seismic_avg_year\"], marker=\"o\", c=[\"red\"])\n",
    "plt.scatter(seismic_data2_df[\"cd_by_year\"], seismic_data2_df[\"seismic_count_year\"]/2000, marker=\"o\", c=[\"blue\"])\n",
    "\n",
    "# Incorporate the other graph properties\n",
    "plt.title(\"Magnitude and Count by Year\" + \" \" + year_range)\n",
    "plt.ylabel(\"Average Magnitude/ Siesmic Activity/ 2000\")\n",
    "plt.xlabel(\"Years\")\n",
    "plt.grid(True)\n",
    "\n",
    "# Save the figure\n",
    "#plt.savefig(\"Magnitude and Count by Year.png\")\n",
    "\n",
    "plt.legend(bbox_to_anchor=(1.3, 1))\n",
    "\n",
    "# Show plot\n",
    "plt.show()"
   ]
  },
  {
   "cell_type": "code",
   "execution_count": null,
   "metadata": {
    "collapsed": true
   },
   "outputs": [],
   "source": []
  },
  {
   "cell_type": "code",
   "execution_count": 9,
   "metadata": {},
   "outputs": [
    {
     "data": {
      "text/html": [
       "<div>\n",
       "<style>\n",
       "    .dataframe thead tr:only-child th {\n",
       "        text-align: right;\n",
       "    }\n",
       "\n",
       "    .dataframe thead th {\n",
       "        text-align: left;\n",
       "    }\n",
       "\n",
       "    .dataframe tbody tr th {\n",
       "        vertical-align: top;\n",
       "    }\n",
       "</style>\n",
       "<table border=\"1\" class=\"dataframe\">\n",
       "  <thead>\n",
       "    <tr style=\"text-align: right;\">\n",
       "      <th></th>\n",
       "      <th>cd_by_month</th>\n",
       "      <th>seismic_avg_year</th>\n",
       "      <th>seismic_count_year</th>\n",
       "    </tr>\n",
       "  </thead>\n",
       "  <tbody>\n",
       "    <tr>\n",
       "      <th>0</th>\n",
       "      <td>01-1931</td>\n",
       "      <td>4.200000</td>\n",
       "      <td>1</td>\n",
       "    </tr>\n",
       "    <tr>\n",
       "      <th>1</th>\n",
       "      <td>01-1932</td>\n",
       "      <td>3.315909</td>\n",
       "      <td>22</td>\n",
       "    </tr>\n",
       "    <tr>\n",
       "      <th>2</th>\n",
       "      <td>01-1933</td>\n",
       "      <td>3.409600</td>\n",
       "      <td>25</td>\n",
       "    </tr>\n",
       "    <tr>\n",
       "      <th>3</th>\n",
       "      <td>01-1934</td>\n",
       "      <td>3.124815</td>\n",
       "      <td>27</td>\n",
       "    </tr>\n",
       "    <tr>\n",
       "      <th>4</th>\n",
       "      <td>01-1935</td>\n",
       "      <td>3.304103</td>\n",
       "      <td>39</td>\n",
       "    </tr>\n",
       "  </tbody>\n",
       "</table>\n",
       "</div>"
      ],
      "text/plain": [
       "  cd_by_month  seismic_avg_year  seismic_count_year\n",
       "0     01-1931          4.200000                   1\n",
       "1     01-1932          3.315909                  22\n",
       "2     01-1933          3.409600                  25\n",
       "3     01-1934          3.124815                  27\n",
       "4     01-1935          3.304103                  39"
      ]
     },
     "execution_count": 9,
     "metadata": {},
     "output_type": "execute_result"
    }
   ],
   "source": [
    "seismic_avg_year = seismic_data.groupby([\"cd_by_month\"]).mean()[\"mag\"]\n",
    "seismic_count_year = seismic_data.groupby([\"cd_by_month\"]).count()[\"mag\"]\n",
    "\n",
    "seismic_data2_df = pd.DataFrame({\"seismic_avg_year\" : seismic_avg_year,\n",
    "                                \"seismic_count_year\" : seismic_count_year,\n",
    "                                })\n",
    "\n",
    "seismic_data2_df = seismic_data2_df.reset_index()\n",
    "\n",
    "seismic_data2_df.head()"
   ]
  },
  {
   "cell_type": "code",
   "execution_count": 10,
   "metadata": {},
   "outputs": [
    {
     "ename": "ValueError",
     "evalue": "could not convert string to float: '12-2016'",
     "output_type": "error",
     "traceback": [
      "\u001b[1;31m---------------------------------------------------------------------------\u001b[0m",
      "\u001b[1;31mValueError\u001b[0m                                Traceback (most recent call last)",
      "\u001b[1;32m<ipython-input-10-b47a522f3305>\u001b[0m in \u001b[0;36m<module>\u001b[1;34m()\u001b[0m\n\u001b[0;32m     11\u001b[0m \u001b[1;33m\u001b[0m\u001b[0m\n\u001b[0;32m     12\u001b[0m \u001b[1;31m# Build a scatter plot for each data type\u001b[0m\u001b[1;33m\u001b[0m\u001b[1;33m\u001b[0m\u001b[0m\n\u001b[1;32m---> 13\u001b[1;33m \u001b[0mplt\u001b[0m\u001b[1;33m.\u001b[0m\u001b[0mscatter\u001b[0m\u001b[1;33m(\u001b[0m\u001b[0mseismic_data2_df\u001b[0m\u001b[1;33m[\u001b[0m\u001b[1;34m\"cd_by_month\"\u001b[0m\u001b[1;33m]\u001b[0m\u001b[1;33m,\u001b[0m \u001b[0mseismic_data2_df\u001b[0m\u001b[1;33m[\u001b[0m\u001b[1;34m\"seismic_avg_year\"\u001b[0m\u001b[1;33m]\u001b[0m\u001b[1;33m,\u001b[0m \u001b[0mmarker\u001b[0m\u001b[1;33m=\u001b[0m\u001b[1;34m\"o\"\u001b[0m\u001b[1;33m,\u001b[0m \u001b[0mc\u001b[0m\u001b[1;33m=\u001b[0m\u001b[1;33m[\u001b[0m\u001b[1;34m\"red\"\u001b[0m\u001b[1;33m]\u001b[0m\u001b[1;33m)\u001b[0m\u001b[1;33m\u001b[0m\u001b[0m\n\u001b[0m\u001b[0;32m     14\u001b[0m \u001b[0mplt\u001b[0m\u001b[1;33m.\u001b[0m\u001b[0mscatter\u001b[0m\u001b[1;33m(\u001b[0m\u001b[0mseismic_data2_df\u001b[0m\u001b[1;33m[\u001b[0m\u001b[1;34m\"cd_by_month\"\u001b[0m\u001b[1;33m]\u001b[0m\u001b[1;33m,\u001b[0m \u001b[0mseismic_data2_df\u001b[0m\u001b[1;33m[\u001b[0m\u001b[1;34m\"seismic_count_year\"\u001b[0m\u001b[1;33m]\u001b[0m\u001b[1;33m/\u001b[0m\u001b[1;36m2000\u001b[0m\u001b[1;33m,\u001b[0m \u001b[0mmarker\u001b[0m\u001b[1;33m=\u001b[0m\u001b[1;34m\"o\"\u001b[0m\u001b[1;33m,\u001b[0m \u001b[0mc\u001b[0m\u001b[1;33m=\u001b[0m\u001b[1;33m[\u001b[0m\u001b[1;34m\"blue\"\u001b[0m\u001b[1;33m]\u001b[0m\u001b[1;33m)\u001b[0m\u001b[1;33m\u001b[0m\u001b[0m\n\u001b[0;32m     15\u001b[0m \u001b[1;33m\u001b[0m\u001b[0m\n",
      "\u001b[1;32mC:\\Users\\Jon\\Anaconda3\\envs\\PythonData\\lib\\site-packages\\matplotlib\\pyplot.py\u001b[0m in \u001b[0;36mscatter\u001b[1;34m(x, y, s, c, marker, cmap, norm, vmin, vmax, alpha, linewidths, verts, edgecolors, hold, data, **kwargs)\u001b[0m\n\u001b[0;32m   3432\u001b[0m                          \u001b[0mvmin\u001b[0m\u001b[1;33m=\u001b[0m\u001b[0mvmin\u001b[0m\u001b[1;33m,\u001b[0m \u001b[0mvmax\u001b[0m\u001b[1;33m=\u001b[0m\u001b[0mvmax\u001b[0m\u001b[1;33m,\u001b[0m \u001b[0malpha\u001b[0m\u001b[1;33m=\u001b[0m\u001b[0malpha\u001b[0m\u001b[1;33m,\u001b[0m\u001b[1;33m\u001b[0m\u001b[0m\n\u001b[0;32m   3433\u001b[0m                          \u001b[0mlinewidths\u001b[0m\u001b[1;33m=\u001b[0m\u001b[0mlinewidths\u001b[0m\u001b[1;33m,\u001b[0m \u001b[0mverts\u001b[0m\u001b[1;33m=\u001b[0m\u001b[0mverts\u001b[0m\u001b[1;33m,\u001b[0m\u001b[1;33m\u001b[0m\u001b[0m\n\u001b[1;32m-> 3434\u001b[1;33m                          edgecolors=edgecolors, data=data, **kwargs)\n\u001b[0m\u001b[0;32m   3435\u001b[0m     \u001b[1;32mfinally\u001b[0m\u001b[1;33m:\u001b[0m\u001b[1;33m\u001b[0m\u001b[0m\n\u001b[0;32m   3436\u001b[0m         \u001b[0max\u001b[0m\u001b[1;33m.\u001b[0m\u001b[0m_hold\u001b[0m \u001b[1;33m=\u001b[0m \u001b[0mwashold\u001b[0m\u001b[1;33m\u001b[0m\u001b[0m\n",
      "\u001b[1;32mC:\\Users\\Jon\\Anaconda3\\envs\\PythonData\\lib\\site-packages\\matplotlib\\__init__.py\u001b[0m in \u001b[0;36minner\u001b[1;34m(ax, *args, **kwargs)\u001b[0m\n\u001b[0;32m   1895\u001b[0m                     warnings.warn(msg % (label_namer, func.__name__),\n\u001b[0;32m   1896\u001b[0m                                   RuntimeWarning, stacklevel=2)\n\u001b[1;32m-> 1897\u001b[1;33m             \u001b[1;32mreturn\u001b[0m \u001b[0mfunc\u001b[0m\u001b[1;33m(\u001b[0m\u001b[0max\u001b[0m\u001b[1;33m,\u001b[0m \u001b[1;33m*\u001b[0m\u001b[0margs\u001b[0m\u001b[1;33m,\u001b[0m \u001b[1;33m**\u001b[0m\u001b[0mkwargs\u001b[0m\u001b[1;33m)\u001b[0m\u001b[1;33m\u001b[0m\u001b[0m\n\u001b[0m\u001b[0;32m   1898\u001b[0m         \u001b[0mpre_doc\u001b[0m \u001b[1;33m=\u001b[0m \u001b[0minner\u001b[0m\u001b[1;33m.\u001b[0m\u001b[0m__doc__\u001b[0m\u001b[1;33m\u001b[0m\u001b[0m\n\u001b[0;32m   1899\u001b[0m         \u001b[1;32mif\u001b[0m \u001b[0mpre_doc\u001b[0m \u001b[1;32mis\u001b[0m \u001b[1;32mNone\u001b[0m\u001b[1;33m:\u001b[0m\u001b[1;33m\u001b[0m\u001b[0m\n",
      "\u001b[1;32mC:\\Users\\Jon\\Anaconda3\\envs\\PythonData\\lib\\site-packages\\matplotlib\\axes\\_axes.py\u001b[0m in \u001b[0;36mscatter\u001b[1;34m(self, x, y, s, c, marker, cmap, norm, vmin, vmax, alpha, linewidths, verts, edgecolors, **kwargs)\u001b[0m\n\u001b[0;32m   4061\u001b[0m                 \u001b[0mself\u001b[0m\u001b[1;33m.\u001b[0m\u001b[0mset_ymargin\u001b[0m\u001b[1;33m(\u001b[0m\u001b[1;36m0.05\u001b[0m\u001b[1;33m)\u001b[0m\u001b[1;33m\u001b[0m\u001b[0m\n\u001b[0;32m   4062\u001b[0m \u001b[1;33m\u001b[0m\u001b[0m\n\u001b[1;32m-> 4063\u001b[1;33m         \u001b[0mself\u001b[0m\u001b[1;33m.\u001b[0m\u001b[0madd_collection\u001b[0m\u001b[1;33m(\u001b[0m\u001b[0mcollection\u001b[0m\u001b[1;33m)\u001b[0m\u001b[1;33m\u001b[0m\u001b[0m\n\u001b[0m\u001b[0;32m   4064\u001b[0m         \u001b[0mself\u001b[0m\u001b[1;33m.\u001b[0m\u001b[0mautoscale_view\u001b[0m\u001b[1;33m(\u001b[0m\u001b[1;33m)\u001b[0m\u001b[1;33m\u001b[0m\u001b[0m\n\u001b[0;32m   4065\u001b[0m \u001b[1;33m\u001b[0m\u001b[0m\n",
      "\u001b[1;32mC:\\Users\\Jon\\Anaconda3\\envs\\PythonData\\lib\\site-packages\\matplotlib\\axes\\_base.py\u001b[0m in \u001b[0;36madd_collection\u001b[1;34m(self, collection, autolim)\u001b[0m\n\u001b[0;32m   1760\u001b[0m \u001b[1;33m\u001b[0m\u001b[0m\n\u001b[0;32m   1761\u001b[0m         \u001b[1;32mif\u001b[0m \u001b[0mautolim\u001b[0m\u001b[1;33m:\u001b[0m\u001b[1;33m\u001b[0m\u001b[0m\n\u001b[1;32m-> 1762\u001b[1;33m             \u001b[0mself\u001b[0m\u001b[1;33m.\u001b[0m\u001b[0mupdate_datalim\u001b[0m\u001b[1;33m(\u001b[0m\u001b[0mcollection\u001b[0m\u001b[1;33m.\u001b[0m\u001b[0mget_datalim\u001b[0m\u001b[1;33m(\u001b[0m\u001b[0mself\u001b[0m\u001b[1;33m.\u001b[0m\u001b[0mtransData\u001b[0m\u001b[1;33m)\u001b[0m\u001b[1;33m)\u001b[0m\u001b[1;33m\u001b[0m\u001b[0m\n\u001b[0m\u001b[0;32m   1763\u001b[0m \u001b[1;33m\u001b[0m\u001b[0m\n\u001b[0;32m   1764\u001b[0m         \u001b[0mcollection\u001b[0m\u001b[1;33m.\u001b[0m\u001b[0m_remove_method\u001b[0m \u001b[1;33m=\u001b[0m \u001b[1;32mlambda\u001b[0m \u001b[0mh\u001b[0m\u001b[1;33m:\u001b[0m \u001b[0mself\u001b[0m\u001b[1;33m.\u001b[0m\u001b[0mcollections\u001b[0m\u001b[1;33m.\u001b[0m\u001b[0mremove\u001b[0m\u001b[1;33m(\u001b[0m\u001b[0mh\u001b[0m\u001b[1;33m)\u001b[0m\u001b[1;33m\u001b[0m\u001b[0m\n",
      "\u001b[1;32mC:\\Users\\Jon\\Anaconda3\\envs\\PythonData\\lib\\site-packages\\matplotlib\\collections.py\u001b[0m in \u001b[0;36mget_datalim\u001b[1;34m(self, transData)\u001b[0m\n\u001b[0;32m    218\u001b[0m             \u001b[0mtransOffset\u001b[0m \u001b[1;33m=\u001b[0m \u001b[0mtransOffset\u001b[0m\u001b[1;33m.\u001b[0m\u001b[0mget_affine\u001b[0m\u001b[1;33m(\u001b[0m\u001b[1;33m)\u001b[0m\u001b[1;33m\u001b[0m\u001b[0m\n\u001b[0;32m    219\u001b[0m \u001b[1;33m\u001b[0m\u001b[0m\n\u001b[1;32m--> 220\u001b[1;33m         \u001b[0moffsets\u001b[0m \u001b[1;33m=\u001b[0m \u001b[0mnp\u001b[0m\u001b[1;33m.\u001b[0m\u001b[0masanyarray\u001b[0m\u001b[1;33m(\u001b[0m\u001b[0moffsets\u001b[0m\u001b[1;33m,\u001b[0m \u001b[0mnp\u001b[0m\u001b[1;33m.\u001b[0m\u001b[0mfloat_\u001b[0m\u001b[1;33m)\u001b[0m\u001b[1;33m\u001b[0m\u001b[0m\n\u001b[0m\u001b[0;32m    221\u001b[0m         \u001b[1;32mif\u001b[0m \u001b[0mnp\u001b[0m\u001b[1;33m.\u001b[0m\u001b[0mma\u001b[0m\u001b[1;33m.\u001b[0m\u001b[0misMaskedArray\u001b[0m\u001b[1;33m(\u001b[0m\u001b[0moffsets\u001b[0m\u001b[1;33m)\u001b[0m\u001b[1;33m:\u001b[0m\u001b[1;33m\u001b[0m\u001b[0m\n\u001b[0;32m    222\u001b[0m             \u001b[0moffsets\u001b[0m \u001b[1;33m=\u001b[0m \u001b[0moffsets\u001b[0m\u001b[1;33m.\u001b[0m\u001b[0mfilled\u001b[0m\u001b[1;33m(\u001b[0m\u001b[0mnp\u001b[0m\u001b[1;33m.\u001b[0m\u001b[0mnan\u001b[0m\u001b[1;33m)\u001b[0m\u001b[1;33m\u001b[0m\u001b[0m\n",
      "\u001b[1;32mC:\\Users\\Jon\\Anaconda3\\envs\\PythonData\\lib\\site-packages\\numpy\\core\\numeric.py\u001b[0m in \u001b[0;36masanyarray\u001b[1;34m(a, dtype, order)\u001b[0m\n\u001b[0;32m    581\u001b[0m \u001b[1;33m\u001b[0m\u001b[0m\n\u001b[0;32m    582\u001b[0m     \"\"\"\n\u001b[1;32m--> 583\u001b[1;33m     \u001b[1;32mreturn\u001b[0m \u001b[0marray\u001b[0m\u001b[1;33m(\u001b[0m\u001b[0ma\u001b[0m\u001b[1;33m,\u001b[0m \u001b[0mdtype\u001b[0m\u001b[1;33m,\u001b[0m \u001b[0mcopy\u001b[0m\u001b[1;33m=\u001b[0m\u001b[1;32mFalse\u001b[0m\u001b[1;33m,\u001b[0m \u001b[0morder\u001b[0m\u001b[1;33m=\u001b[0m\u001b[0morder\u001b[0m\u001b[1;33m,\u001b[0m \u001b[0msubok\u001b[0m\u001b[1;33m=\u001b[0m\u001b[1;32mTrue\u001b[0m\u001b[1;33m)\u001b[0m\u001b[1;33m\u001b[0m\u001b[0m\n\u001b[0m\u001b[0;32m    584\u001b[0m \u001b[1;33m\u001b[0m\u001b[0m\n\u001b[0;32m    585\u001b[0m \u001b[1;33m\u001b[0m\u001b[0m\n",
      "\u001b[1;31mValueError\u001b[0m: could not convert string to float: '12-2016'"
     ]
    }
   ],
   "source": [
    "# import matplotlib.dates as mdates\n",
    "\n",
    "# a = pd.DatetimeIndex(start='2010-01-01',end='2014-01-01' , freq='D')\n",
    "# b = pd.Series(np.random.randn(len(a)), index=a)\n",
    "# fig, ax = plt.subplots()\n",
    "# ax.plot(b.index, b)\n",
    "# ax.xaxis.set_major_formatter(mdates.DateFormatter('%Y-%m'))\n",
    "\n",
    "\n",
    "\n",
    "\n",
    "# Build a scatter plot for each data type\n",
    "plt.scatter(seismic_data2_df[\"cd_by_month\"], seismic_data2_df[\"seismic_avg_year\"], marker=\"o\", c=[\"red\"])\n",
    "plt.scatter(seismic_data2_df[\"cd_by_month\"], seismic_data2_df[\"seismic_count_year\"]/2000, marker=\"o\", c=[\"blue\"])\n",
    "\n",
    "# Incorporate the other graph properties\n",
    "plt.title(\"Magnitude and Count by Month\" + \" \" + year_range)\n",
    "plt.ylabel(\"Average Magnitude/ Siesmic Activity/ 2000\")\n",
    "plt.xlabel(\"Years\")\n",
    "plt.grid(True)\n",
    "\n",
    "# Save the figure\n",
    "#plt.savefig(\"Magnitude and Count by Month.png\")\n",
    "\n",
    "plt.legend(bbox_to_anchor=(1.3, 1))\n",
    "\n",
    "# Show plot\n",
    "plt.show()"
   ]
  },
  {
   "cell_type": "code",
   "execution_count": null,
   "metadata": {
    "collapsed": true
   },
   "outputs": [],
   "source": [
    "# time.mktime(datetime.datetime.strptime(s, \"%d/%m/%Y\").timetuple())\n",
    "\n",
    "unix_month_year = time.mktime(datetime.datetime.strptime(09 2017, \"%m %Y\").timetuple())\n",
    "# unix_year\n",
    "\n",
    "\n",
    "\n",
    "unix_month_year\n",
    "#seismic_data.cd_by_year"
   ]
  },
  {
   "cell_type": "code",
   "execution_count": null,
   "metadata": {
    "collapsed": true
   },
   "outputs": [],
   "source": [
    "cd_by_month"
   ]
  },
  {
   "cell_type": "code",
   "execution_count": null,
   "metadata": {},
   "outputs": [],
   "source": [
    "Search"
   ]
  },
  {
   "cell_type": "code",
   "execution_count": null,
   "metadata": {},
   "outputs": [],
   "source": [
    "cd_by_month"
   ]
  },
  {
   "cell_type": "code",
   "execution_count": null,
   "metadata": {
    "collapsed": true
   },
   "outputs": [],
   "source": []
  }
 ],
 "metadata": {
  "kernelspec": {
   "display_name": "Python [conda env:PythonData]",
   "language": "python",
   "name": "conda-env-PythonData-py"
  }
 },
 "nbformat": 4,
 "nbformat_minor": 2
}
